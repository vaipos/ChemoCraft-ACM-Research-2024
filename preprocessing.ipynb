{
 "cells": [
  {
   "cell_type": "code",
   "execution_count": null,
   "id": "1950f2bf-d1fd-4c35-b6b7-8318c816c6f1",
   "metadata": {},
   "outputs": [],
   "source": [
    "import boto3\n",
    "import nibabel as nib\n",
    "import numpy as np\n",
    "import matplotlib.pyplot as plt\n",
    "import io\n",
    "import tempfile\n",
    "\n",
    "s3 = boto3.resource('s3')\n",
    "bucket_name = 'chemocraft-data'\n",
    "folder_path = 'Data/BraTS20_Training_369 copy/'\n",
    "bucket = s3.Bucket(bucket_name)\n",
    "\n",
    "def render_nii_from_s3(filename):\n",
    "    print(f\"Fetching file: {filename}\")\n",
    "\n",
    "    obj = bucket.Object(folder_path + filename)\n",
    "    file_stream = io.BytesIO(obj.get()['Body'].read())\n",
    "    \n",
    "    with tempfile.NamedTemporaryFile(suffix='.nii', delete=True) as temp_file:\n",
    "        temp_file.write(file_stream.getvalue())\n",
    "        temp_file.flush()  \n",
    "\n",
    "        try:\n",
    "            img = nib.load(temp_file.name)\n",
    "            data = img.get_fdata()\n",
    "            \n",
    "            print(f\"Data shape for {filename}: {data.shape}\")\n",
    "            \n",
    "            if data.size == 0:\n",
    "                print(f\"No data found in {filename}\")\n",
    "                return\n",
    "            \n",
    "            slice_idx = data.shape[2] // 2\n",
    "            \n",
    "            plt.figure(figsize=(6, 6))\n",
    "            plt.imshow(data[:, :, slice_idx], cmap='gray')\n",
    "            plt.title(f'{filename} - Slice {slice_idx}')\n",
    "            plt.axis('off')  # Hide axes for cleaner display\n",
    "            plt.show()\n",
    "        except Exception as e:\n",
    "            print(f\"Error loading file {filename}: {e}\")\n",
    "\n",
    "found_files = False\n",
    "for obj in bucket.objects.filter(Prefix=folder_path):\n",
    "    if obj.key.endswith('.nii'):\n",
    "        found_files = True\n",
    "        filename = obj.key.split('/')[-1]  # Get the filename\n",
    "        render_nii_from_s3(filename)\n",
    "\n",
    "if not found_files:\n",
    "    print(f\"No .nii files found in the folder {folder_path}\")"
   ]
  }
 ],
 "metadata": {
  "kernelspec": {
   "display_name": "Python 3 (ipykernel)",
   "language": "python",
   "name": "python3"
  },
  "language_info": {
   "codemirror_mode": {
    "name": "ipython",
    "version": 3
   },
   "file_extension": ".py",
   "mimetype": "text/x-python",
   "name": "python",
   "nbconvert_exporter": "python",
   "pygments_lexer": "ipython3",
   "version": "3.12.7"
  }
 },
 "nbformat": 4,
 "nbformat_minor": 5
}
