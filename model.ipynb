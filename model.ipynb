{
 "cells": [
  {
   "cell_type": "markdown",
   "metadata": {},
   "source": [
    "# Model Development\n",
    "\n",
    "## Model Layout\n",
    "\n",
    "First I am laying out the design of the model\n",
    "\n",
    "### Generator\n",
    "\n",
    "- Input layer: 100 dim vector\n",
    "- Dense Layer: 128 (ReLU)\n",
    "- Dense Layer: 128*32 (ReLU)\n",
    "- reshape 16 x 16 x 32\n",
    "- Conv2DTranspose: filters 32, kernel size 5x5, activation ReLU, stride=9, padding same\n",
    "- Conv2DTranspose: filters 8, kernel size 3x3, activation ReLU, stride=3, \n",
    "\n",
    "FIGURE OUT HOW TO MAKE GENERATOR OUTPUT 196x160\n",
    "\n",
    "### Discriminator\n",
    "\n",
    "- 196 x 160 inputted into first conv Layer with 16 filters & 9x9 kernel, same padding, and stride of 4\n",
    "- Next conv layer 32 filters 5x5 with same padding & stride of 3\n",
    "- Next conv layer 128 filters 3x3 with same padding & stride of 2\n",
    "- Flatten\n",
    "- Dense to 1 with sigmoid\n",
    "\n",
    "### Combined\n",
    "\n",
    "\n",
    "### Issues\n",
    "I am going to move on to grabbing the data for now cause I do not fully understand how the conv2D works right now."
   ]
  },
  {
   "cell_type": "code",
   "execution_count": 1,
   "metadata": {},
   "outputs": [
    {
     "name": "stdout",
     "output_type": "stream",
     "text": [
      "Collecting keras\n",
      "  Downloading keras-3.6.0-py3-none-any.whl.metadata (5.8 kB)\n",
      "Collecting absl-py (from keras)\n",
      "  Using cached absl_py-2.1.0-py3-none-any.whl.metadata (2.3 kB)\n",
      "Requirement already satisfied: numpy in c:\\users\\zaaim\\anaconda3\\envs\\myenv\\lib\\site-packages (from keras) (2.1.2)\n",
      "Collecting rich (from keras)\n",
      "  Downloading rich-13.9.4-py3-none-any.whl.metadata (18 kB)\n",
      "Collecting namex (from keras)\n",
      "  Downloading namex-0.0.8-py3-none-any.whl.metadata (246 bytes)\n",
      "Collecting h5py (from keras)\n",
      "  Downloading h5py-3.12.1-cp312-cp312-win_amd64.whl.metadata (2.5 kB)\n",
      "Collecting optree (from keras)\n",
      "  Downloading optree-0.13.0-cp312-cp312-win_amd64.whl.metadata (48 kB)\n",
      "Collecting ml-dtypes (from keras)\n",
      "  Downloading ml_dtypes-0.5.0-cp312-cp312-win_amd64.whl.metadata (22 kB)\n",
      "Requirement already satisfied: packaging in c:\\users\\zaaim\\anaconda3\\envs\\myenv\\lib\\site-packages (from keras) (24.1)\n",
      "Requirement already satisfied: typing-extensions>=4.5.0 in c:\\users\\zaaim\\anaconda3\\envs\\myenv\\lib\\site-packages (from optree->keras) (4.11.0)\n",
      "Collecting markdown-it-py>=2.2.0 (from rich->keras)\n",
      "  Downloading markdown_it_py-3.0.0-py3-none-any.whl.metadata (6.9 kB)\n",
      "Requirement already satisfied: pygments<3.0.0,>=2.13.0 in c:\\users\\zaaim\\anaconda3\\envs\\myenv\\lib\\site-packages (from rich->keras) (2.15.1)\n",
      "Collecting mdurl~=0.1 (from markdown-it-py>=2.2.0->rich->keras)\n",
      "  Downloading mdurl-0.1.2-py3-none-any.whl.metadata (1.6 kB)\n",
      "Downloading keras-3.6.0-py3-none-any.whl (1.2 MB)\n",
      "   ---------------------------------------- 0.0/1.2 MB ? eta -:--:--\n",
      "   ---------------------------------------- 0.0/1.2 MB ? eta -:--:--\n",
      "   ---------------------------------------- 0.0/1.2 MB ? eta -:--:--\n",
      "   -------- ------------------------------- 0.3/1.2 MB ? eta -:--:--\n",
      "   ----------------- ---------------------- 0.5/1.2 MB 799.2 kB/s eta 0:00:01\n",
      "   -------------------------- ------------- 0.8/1.2 MB 958.5 kB/s eta 0:00:01\n",
      "   -------------------------- ------------- 0.8/1.2 MB 958.5 kB/s eta 0:00:01\n",
      "   ---------------------------------------- 1.2/1.2 MB 1.0 MB/s eta 0:00:00\n",
      "Using cached absl_py-2.1.0-py3-none-any.whl (133 kB)\n",
      "Downloading h5py-3.12.1-cp312-cp312-win_amd64.whl (3.0 MB)\n",
      "   ---------------------------------------- 0.0/3.0 MB ? eta -:--:--\n",
      "   ---------------------------------------- 0.0/3.0 MB ? eta -:--:--\n",
      "   --- ------------------------------------ 0.3/3.0 MB ? eta -:--:--\n",
      "   ---------- ----------------------------- 0.8/3.0 MB 1.6 MB/s eta 0:00:02\n",
      "   ----------------- ---------------------- 1.3/3.0 MB 2.0 MB/s eta 0:00:01\n",
      "   ------------------------ --------------- 1.8/3.0 MB 2.1 MB/s eta 0:00:01\n",
      "   ----------------------------------- ---- 2.6/3.0 MB 2.5 MB/s eta 0:00:01\n",
      "   ---------------------------------------- 3.0/3.0 MB 2.6 MB/s eta 0:00:00\n",
      "Downloading ml_dtypes-0.5.0-cp312-cp312-win_amd64.whl (213 kB)\n",
      "Downloading namex-0.0.8-py3-none-any.whl (5.8 kB)\n",
      "Downloading optree-0.13.0-cp312-cp312-win_amd64.whl (283 kB)\n",
      "Downloading rich-13.9.4-py3-none-any.whl (242 kB)\n",
      "Downloading markdown_it_py-3.0.0-py3-none-any.whl (87 kB)\n",
      "Downloading mdurl-0.1.2-py3-none-any.whl (10.0 kB)\n",
      "Installing collected packages: namex, optree, ml-dtypes, mdurl, h5py, absl-py, markdown-it-py, rich, keras\n",
      "Successfully installed absl-py-2.1.0 h5py-3.12.1 keras-3.6.0 markdown-it-py-3.0.0 mdurl-0.1.2 ml-dtypes-0.5.0 namex-0.0.8 optree-0.13.0 rich-13.9.4\n"
     ]
    }
   ],
   "source": [
    "!pip install keras"
   ]
  },
  {
   "cell_type": "code",
   "execution_count": null,
   "metadata": {},
   "outputs": [],
   "source": [
    "import numpy as np\n",
    "import os\n",
    "\n",
    "# Sepcifying backend for Keras\n",
    "os.environ[\"KERAS_BACKEND\"]=\"tensorflow\"\n",
    "\n",
    "import keras\n",
    "\n",
    "# Load Dataset in batch loop\n",
    "\"\"\"Batch size: ????????? set after design made (simple array-like objects)\"\"\"\n",
    "\n",
    "# Initialize sequential model\n",
    "model = keras.Sequential(\n",
    "    [\n",
    "\n",
    "    ]\n",
    ")\n",
    "\n",
    "# Summarize current model\n",
    "model.summary()\n",
    "\n",
    "# Compile the model\n",
    "model.compile()"
   ]
  }
 ],
 "metadata": {
  "kernelspec": {
   "display_name": "myenv",
   "language": "python",
   "name": "python3"
  },
  "language_info": {
   "codemirror_mode": {
    "name": "ipython",
    "version": 3
   },
   "file_extension": ".py",
   "mimetype": "text/x-python",
   "name": "python",
   "nbconvert_exporter": "python",
   "pygments_lexer": "ipython3",
   "version": "3.12.7"
  }
 },
 "nbformat": 4,
 "nbformat_minor": 2
}
