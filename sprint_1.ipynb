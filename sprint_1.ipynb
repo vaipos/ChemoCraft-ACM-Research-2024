{
 "cells": [
  {
   "cell_type": "code",
   "execution_count": 7,
   "metadata": {},
   "outputs": [
    {
     "name": "stdout",
     "output_type": "stream",
     "text": [
      "Sprint 1 Notebook\n"
     ]
    }
   ],
   "source": [
    "print(\"Sprint 1 Notebook\")"
   ]
  },
  {
   "cell_type": "code",
   "execution_count": 8,
   "metadata": {},
   "outputs": [
    {
     "name": "stdout",
     "output_type": "stream",
     "text": [
      "Requirement already satisfied: boto3 in c:\\users\\user\\anaconda3\\envs\\myenv\\lib\\site-packages (1.35.44)\n",
      "Requirement already satisfied: nibabel in c:\\users\\user\\anaconda3\\envs\\myenv\\lib\\site-packages (5.3.1)\n",
      "Requirement already satisfied: numpy in c:\\users\\user\\anaconda3\\envs\\myenv\\lib\\site-packages (1.26.4)\n",
      "Requirement already satisfied: matplotlib in c:\\users\\user\\anaconda3\\envs\\myenv\\lib\\site-packages (3.9.2)\n",
      "Requirement already satisfied: botocore<1.36.0,>=1.35.44 in c:\\users\\user\\anaconda3\\envs\\myenv\\lib\\site-packages (from boto3) (1.35.44)\n",
      "Requirement already satisfied: jmespath<2.0.0,>=0.7.1 in c:\\users\\user\\anaconda3\\envs\\myenv\\lib\\site-packages (from boto3) (1.0.1)\n",
      "Requirement already satisfied: s3transfer<0.11.0,>=0.10.0 in c:\\users\\user\\anaconda3\\envs\\myenv\\lib\\site-packages (from boto3) (0.10.3)\n",
      "Requirement already satisfied: packaging>=20 in c:\\users\\user\\anaconda3\\envs\\myenv\\lib\\site-packages (from nibabel) (24.1)\n",
      "Requirement already satisfied: typing-extensions>=4.6 in c:\\users\\user\\anaconda3\\envs\\myenv\\lib\\site-packages (from nibabel) (4.11.0)\n",
      "Requirement already satisfied: contourpy>=1.0.1 in c:\\users\\user\\anaconda3\\envs\\myenv\\lib\\site-packages (from matplotlib) (1.3.0)\n",
      "Requirement already satisfied: cycler>=0.10 in c:\\users\\user\\anaconda3\\envs\\myenv\\lib\\site-packages (from matplotlib) (0.12.1)\n",
      "Requirement already satisfied: fonttools>=4.22.0 in c:\\users\\user\\anaconda3\\envs\\myenv\\lib\\site-packages (from matplotlib) (4.54.1)\n",
      "Requirement already satisfied: kiwisolver>=1.3.1 in c:\\users\\user\\anaconda3\\envs\\myenv\\lib\\site-packages (from matplotlib) (1.4.7)\n",
      "Requirement already satisfied: pillow>=8 in c:\\users\\user\\anaconda3\\envs\\myenv\\lib\\site-packages (from matplotlib) (11.0.0)\n",
      "Requirement already satisfied: pyparsing>=2.3.1 in c:\\users\\user\\anaconda3\\envs\\myenv\\lib\\site-packages (from matplotlib) (3.2.0)\n",
      "Requirement already satisfied: python-dateutil>=2.7 in c:\\users\\user\\anaconda3\\envs\\myenv\\lib\\site-packages (from matplotlib) (2.9.0.post0)\n",
      "Requirement already satisfied: urllib3!=2.2.0,<3,>=1.25.4 in c:\\users\\user\\anaconda3\\envs\\myenv\\lib\\site-packages (from botocore<1.36.0,>=1.35.44->boto3) (2.2.3)\n",
      "Requirement already satisfied: six>=1.5 in c:\\users\\user\\anaconda3\\envs\\myenv\\lib\\site-packages (from python-dateutil>=2.7->matplotlib) (1.16.0)\n"
     ]
    }
   ],
   "source": [
    "!pip install boto3 nibabel numpy matplotlib"
   ]
  },
  {
   "cell_type": "code",
   "execution_count": null,
   "metadata": {},
   "outputs": [
    {
     "name": "stdout",
     "output_type": "stream",
     "text": [
      "Fetching file: BraTS20_Training_369_flair.nii\n"
     ]
    }
   ],
   "source": [
    "import boto3\n",
    "import nibabel as nib\n",
    "import numpy as np\n",
    "import matplotlib.pyplot as plt\n",
    "import io\n",
    "import tempfile\n",
    "import os\n",
    "\n",
    "s3 = boto3.resource('s3')\n",
    "bucket_name = 'chemocraft-data'\n",
    "folder_path = 'Data/BraTS20_Training_369 copy/'\n",
    "bucket = s3.Bucket(bucket_name)\n",
    "\n",
    "def render_nii_from_s3(filename):\n",
    "    print(f\"Fetching file: {filename}\")\n",
    "\n",
    "    obj = bucket.Object(folder_path + filename)\n",
    "    file_stream = io.BytesIO(obj.get()['Body'].read())\n",
    "\n",
    "    with tempfile.NamedTemporaryFile(suffix='.nii', delete=False) as temp_file:  # Disable auto-delete\n",
    "        temp_file.write(file_stream.getvalue())\n",
    "        temp_file.flush()\n",
    "\n",
    "        temp_file_path = temp_file.name\n",
    "        print(f\"Temporary file created: {temp_file_path}\")\n",
    "\n",
    "    try:\n",
    "        img = nib.load(temp_file_path)\n",
    "        data = img.get_fdata()\n",
    "\n",
    "        print(f\"Data shape for {filename}: {data.shape}\")\n",
    "\n",
    "        if data.size == 0:\n",
    "            print(f\"No data found in {filename}\")\n",
    "            return\n",
    "\n",
    "        slice_idx = data.shape[2] // 2 #77\n",
    "\n",
    "        plt.figure(figsize=(3, 3))\n",
    "        plt.imshow(data[:, :, slice_idx], cmap='gray')\n",
    "        plt.title(f'{filename} - Slice {slice_idx}')\n",
    "        plt.axis('off')  # Hide axes for cleaner display\n",
    "        plt.show()\n",
    "\n",
    "    except Exception as e:\n",
    "        print(f\"Error loading file {filename}: {e}\")\n",
    "    finally:\n",
    "        try:\n",
    "            os.remove(temp_file_path)  # Clean up the temp file\n",
    "            print(f\"Deleted temporary file: {temp_file_path}\")\n",
    "        except OSError as cleanup_error:\n",
    "            print(f\"Error deleting temp file: {cleanup_error}\")\n",
    "\n",
    "found_files = False\n",
    "for obj in bucket.objects.filter(Prefix=folder_path):\n",
    "    if obj.key.endswith('.nii'):\n",
    "        found_files = True\n",
    "        filename = obj.key.split('/')[-1]  # Get the filename\n",
    "        render_nii_from_s3(filename)\n",
    "\n",
    "if not found_files:\n",
    "    print(f\"No .nii files found in the folder {folder_path}\")"
   ]
  }
 ],
 "metadata": {
  "kernelspec": {
   "display_name": "myenv",
   "language": "python",
   "name": "python3"
  },
  "language_info": {
   "codemirror_mode": {
    "name": "ipython",
    "version": 3
   },
   "file_extension": ".py",
   "mimetype": "text/x-python",
   "name": "python",
   "nbconvert_exporter": "python",
   "pygments_lexer": "ipython3",
   "version": "3.12.7"
  }
 },
 "nbformat": 4,
 "nbformat_minor": 2
}
