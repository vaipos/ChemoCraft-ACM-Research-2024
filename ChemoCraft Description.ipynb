{
 "cells": [
  {
   "cell_type": "markdown",
   "metadata": {},
   "source": [
    "**The goal of this Generative AI project is to create a Machine Learning Model capable of generating different types of 3D ```.nii``` MRI Brain scans which contain malignant tumor and have an higher dimension for greater anatomical precision.**\n",
    "\n",
    "This notebook contains the ```python``` code as well as the related documentation.\n",
    "\n",
    "There are two approaches being experimented with:\n",
    "1. Turning 3D ```.nii``` scans into 155 individual 2D ```.png``` slices and using those to train the GAN, and in turn, the GAN will generate 2D slices.\n",
    "2. Training the GAN on vectorized 3D ```.nii``` files, and in turn, the GAN will also generate a 3D model which can later be converted to a ```.nii``` file.\n",
    "\n",
    "The Model will be developed both in ```TensorFlow``` and ```PyTorch``` to see which method works the best."
   ]
  }
 ],
 "metadata": {
  "language_info": {
   "name": "python"
  }
 },
 "nbformat": 4,
 "nbformat_minor": 2
}
