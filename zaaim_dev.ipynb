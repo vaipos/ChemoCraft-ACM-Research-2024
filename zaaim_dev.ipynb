{
 "cells": [
  {
   "cell_type": "markdown",
   "metadata": {},
   "source": [
    "\n",
    "# **Sprint 1**\n",
    "\n",
    "# Data Summary\n",
    "\n",
    "## SCAN TYPES\n",
    "\n",
    "The data given is a single brain with various different types of MRI scans done on it to portray different information about the brain.\n",
    "\n",
    "### T1\n",
    "\n",
    "This scan is a basic MRI which takes into account all the general signals the MRI can detect. This causes the image to be a little fuzzy due to the fluid motion in the brain. \n",
    "\n",
    "### T2\n",
    "\n",
    "This scan focuses on the fluid regions of the brains by scanning in a manner which makes them much brighter in comparison to the brain matter areas. These scans help identify edema or inflammation in the brain. \n",
    "\n",
    "> Edema is when too much fluid is trapped in the body tissue\n",
    "\n",
    "### FRAIR\n",
    "\n",
    "This scan focuses on the brain matter, muscle tissue, and solid regions of the brain to identify physical deformations such as tumors or lesions. (What are MS Plaques)\n",
    "\n",
    "### T1CE\n",
    "\n",
    "An agent is applied to make areas of blood-brain barrier disruptors more apparent so that region of tumors and inflammation appear more bright. (Do not fully understand yet)\n",
    "\n",
    "### SEGMENTATION\n",
    "\n",
    "This are labeled regions of the brain that have been identified/segmented for analysis due to abnormalities observed during the scan. \n",
    "\n",
    "**These were most likely used as training data for a model to identify the points where abnormalities occured in the brain so that more subtle abnormalities could be detected??????????** \n",
    "\n",
    "**For out purposes of brain slice generation, would this be helpful???**\n",
    "\n",
    "\n",
    "# Bugs\n",
    "\n",
    "1. Whenever I set slice_idx=0 the animation does not update the data based on the frame (I need to find out why)\n",
    "\n",
    "2. My code still outputs blank images after execution, I believe it is due to the animation module finishing; however, I am not sure. \n",
    "\n",
    "3. NamesTempFile argument delete must be set to False on Windows machines (Noted for future reference)\n",
    "\n",
    "# Other\n",
    "\n",
    "- .nii: NeuroImaging Informatics\n",
    "- Data is stored in memory, written to disk, then reread from disk into memory\n",
    "- Takes a **FAT** minute to load\n",
    "\n",
    "\n",
    "# **Sprint 2**\n",
    "\n",
    "- I first attempted to cut out the disk processing portion used to handle the .nii files. \n",
    "- This did not work out since nibabel does not work with the BytesIO class and must be stored on disk. \n",
    "\n",
    "- I was able to complete uploading to AWS the processed information\n",
    "\n",
    "- Edited the upload program to take into account past uploads being completed"
   ]
  },
  {
   "cell_type": "code",
   "execution_count": null,
   "metadata": {},
   "outputs": [
    {
     "name": "stdout",
     "output_type": "stream",
     "text": [
      "Fetching file: BraTS20_Training_094_flair.nii\n"
     ]
    },
    {
     "name": "stderr",
     "output_type": "stream",
     "text": [
      "MovieWriter imagemagick unavailable; using Pillow instead.\n"
     ]
    },
    {
     "name": "stdout",
     "output_type": "stream",
     "text": [
      "Temporary file created: C:\\Users\\zaaim\\AppData\\Local\\Temp\\tmp539r7gyj.nii\n",
      "Data shape for BraTS20_Training_094_flair.nii: (240, 240, 155)\n",
      "Temporary file created: C:\\Users\\zaaim\\AppData\\Local\\Temp\\tmp6xtlqiyc.png\n",
      "Saving BraTS20_Training_094_flair.nii.gif\n",
      "Deleted temporary file: C:\\Users\\zaaim\\AppData\\Local\\Temp\\tmp6xtlqiyc.png\n",
      "Deleted temporary file: C:\\Users\\zaaim\\AppData\\Local\\Temp\\tmp539r7gyj.nii\n",
      "Fetching file: BraTS20_Training_094_seg.nii\n"
     ]
    },
    {
     "name": "stderr",
     "output_type": "stream",
     "text": [
      "MovieWriter imagemagick unavailable; using Pillow instead.\n"
     ]
    },
    {
     "name": "stdout",
     "output_type": "stream",
     "text": [
      "Temporary file created: C:\\Users\\zaaim\\AppData\\Local\\Temp\\tmp3e88ato8.nii\n",
      "Data shape for BraTS20_Training_094_seg.nii: (240, 240, 155)\n",
      "Temporary file created: C:\\Users\\zaaim\\AppData\\Local\\Temp\\tmpldsz7k28.png\n",
      "Saving BraTS20_Training_094_seg.nii.gif\n",
      "Deleted temporary file: C:\\Users\\zaaim\\AppData\\Local\\Temp\\tmpldsz7k28.png\n",
      "Deleted temporary file: C:\\Users\\zaaim\\AppData\\Local\\Temp\\tmp3e88ato8.nii\n",
      "Fetching file: BraTS20_Training_094_t1.nii\n"
     ]
    },
    {
     "name": "stderr",
     "output_type": "stream",
     "text": [
      "MovieWriter imagemagick unavailable; using Pillow instead.\n"
     ]
    },
    {
     "name": "stdout",
     "output_type": "stream",
     "text": [
      "Temporary file created: C:\\Users\\zaaim\\AppData\\Local\\Temp\\tmpg1xkgtud.nii\n",
      "Data shape for BraTS20_Training_094_t1.nii: (240, 240, 155)\n",
      "Temporary file created: C:\\Users\\zaaim\\AppData\\Local\\Temp\\tmpur9gwgei.png\n",
      "Saving BraTS20_Training_094_t1.nii.gif\n",
      "Deleted temporary file: C:\\Users\\zaaim\\AppData\\Local\\Temp\\tmpur9gwgei.png\n",
      "Deleted temporary file: C:\\Users\\zaaim\\AppData\\Local\\Temp\\tmpg1xkgtud.nii\n",
      "Fetching file: BraTS20_Training_094_t1ce.nii\n"
     ]
    },
    {
     "name": "stderr",
     "output_type": "stream",
     "text": [
      "MovieWriter imagemagick unavailable; using Pillow instead.\n"
     ]
    },
    {
     "name": "stdout",
     "output_type": "stream",
     "text": [
      "Temporary file created: C:\\Users\\zaaim\\AppData\\Local\\Temp\\tmp7lhiy3ch.nii\n",
      "Data shape for BraTS20_Training_094_t1ce.nii: (240, 240, 155)\n",
      "Temporary file created: C:\\Users\\zaaim\\AppData\\Local\\Temp\\tmpcbrfioar.png\n",
      "Saving BraTS20_Training_094_t1ce.nii.gif\n",
      "Deleted temporary file: C:\\Users\\zaaim\\AppData\\Local\\Temp\\tmpcbrfioar.png\n",
      "Deleted temporary file: C:\\Users\\zaaim\\AppData\\Local\\Temp\\tmp7lhiy3ch.nii\n",
      "Fetching file: BraTS20_Training_094_t2.nii\n"
     ]
    },
    {
     "name": "stderr",
     "output_type": "stream",
     "text": [
      "MovieWriter imagemagick unavailable; using Pillow instead.\n"
     ]
    },
    {
     "name": "stdout",
     "output_type": "stream",
     "text": [
      "Temporary file created: C:\\Users\\zaaim\\AppData\\Local\\Temp\\tmp857bkv11.nii\n",
      "Data shape for BraTS20_Training_094_t2.nii: (240, 240, 155)\n",
      "Temporary file created: C:\\Users\\zaaim\\AppData\\Local\\Temp\\tmp4_aqveaz.png\n",
      "Saving BraTS20_Training_094_t2.nii.gif\n",
      "Deleted temporary file: C:\\Users\\zaaim\\AppData\\Local\\Temp\\tmp4_aqveaz.png\n",
      "Deleted temporary file: C:\\Users\\zaaim\\AppData\\Local\\Temp\\tmp857bkv11.nii\n",
      "Fetching file: BraTS20_Training_095_flair.nii\n"
     ]
    },
    {
     "name": "stderr",
     "output_type": "stream",
     "text": [
      "MovieWriter imagemagick unavailable; using Pillow instead.\n"
     ]
    },
    {
     "name": "stdout",
     "output_type": "stream",
     "text": [
      "Temporary file created: C:\\Users\\zaaim\\AppData\\Local\\Temp\\tmp3yd_yk4p.nii\n",
      "Data shape for BraTS20_Training_095_flair.nii: (240, 240, 155)\n",
      "Temporary file created: C:\\Users\\zaaim\\AppData\\Local\\Temp\\tmpu45jrxxy.png\n",
      "Saving BraTS20_Training_095_flair.nii.gif\n",
      "Deleted temporary file: C:\\Users\\zaaim\\AppData\\Local\\Temp\\tmpu45jrxxy.png\n",
      "Deleted temporary file: C:\\Users\\zaaim\\AppData\\Local\\Temp\\tmp3yd_yk4p.nii\n",
      "Fetching file: BraTS20_Training_095_seg.nii\n"
     ]
    },
    {
     "name": "stderr",
     "output_type": "stream",
     "text": [
      "MovieWriter imagemagick unavailable; using Pillow instead.\n"
     ]
    },
    {
     "name": "stdout",
     "output_type": "stream",
     "text": [
      "Temporary file created: C:\\Users\\zaaim\\AppData\\Local\\Temp\\tmpr9az47lu.nii\n",
      "Data shape for BraTS20_Training_095_seg.nii: (240, 240, 155)\n",
      "Temporary file created: C:\\Users\\zaaim\\AppData\\Local\\Temp\\tmpshluhxkm.png\n",
      "Saving BraTS20_Training_095_seg.nii.gif\n",
      "Deleted temporary file: C:\\Users\\zaaim\\AppData\\Local\\Temp\\tmpshluhxkm.png\n",
      "Deleted temporary file: C:\\Users\\zaaim\\AppData\\Local\\Temp\\tmpr9az47lu.nii\n",
      "Fetching file: BraTS20_Training_095_t1.nii\n"
     ]
    },
    {
     "name": "stderr",
     "output_type": "stream",
     "text": [
      "MovieWriter imagemagick unavailable; using Pillow instead.\n"
     ]
    },
    {
     "name": "stdout",
     "output_type": "stream",
     "text": [
      "Temporary file created: C:\\Users\\zaaim\\AppData\\Local\\Temp\\tmpnnmt4u0r.nii\n",
      "Data shape for BraTS20_Training_095_t1.nii: (240, 240, 155)\n",
      "Temporary file created: C:\\Users\\zaaim\\AppData\\Local\\Temp\\tmpug6127bo.png\n",
      "Saving BraTS20_Training_095_t1.nii.gif\n",
      "Deleted temporary file: C:\\Users\\zaaim\\AppData\\Local\\Temp\\tmpug6127bo.png\n",
      "Deleted temporary file: C:\\Users\\zaaim\\AppData\\Local\\Temp\\tmpnnmt4u0r.nii\n",
      "Fetching file: BraTS20_Training_095_t1ce.nii\n"
     ]
    },
    {
     "name": "stderr",
     "output_type": "stream",
     "text": [
      "MovieWriter imagemagick unavailable; using Pillow instead.\n"
     ]
    },
    {
     "name": "stdout",
     "output_type": "stream",
     "text": [
      "Temporary file created: C:\\Users\\zaaim\\AppData\\Local\\Temp\\tmpauhr_ry_.nii\n",
      "Data shape for BraTS20_Training_095_t1ce.nii: (240, 240, 155)\n",
      "Temporary file created: C:\\Users\\zaaim\\AppData\\Local\\Temp\\tmp45p6zqym.png\n",
      "Saving BraTS20_Training_095_t1ce.nii.gif\n",
      "Deleted temporary file: C:\\Users\\zaaim\\AppData\\Local\\Temp\\tmp45p6zqym.png\n",
      "Deleted temporary file: C:\\Users\\zaaim\\AppData\\Local\\Temp\\tmpauhr_ry_.nii\n",
      "Fetching file: BraTS20_Training_095_t2.nii\n"
     ]
    },
    {
     "name": "stderr",
     "output_type": "stream",
     "text": [
      "MovieWriter imagemagick unavailable; using Pillow instead.\n"
     ]
    },
    {
     "name": "stdout",
     "output_type": "stream",
     "text": [
      "Temporary file created: C:\\Users\\zaaim\\AppData\\Local\\Temp\\tmpk9bj8wud.nii\n",
      "Data shape for BraTS20_Training_095_t2.nii: (240, 240, 155)\n",
      "Temporary file created: C:\\Users\\zaaim\\AppData\\Local\\Temp\\tmpc76jd30x.png\n",
      "Saving BraTS20_Training_095_t2.nii.gif\n",
      "Deleted temporary file: C:\\Users\\zaaim\\AppData\\Local\\Temp\\tmpc76jd30x.png\n",
      "Deleted temporary file: C:\\Users\\zaaim\\AppData\\Local\\Temp\\tmpk9bj8wud.nii\n",
      "Fetching file: BraTS20_Training_112_flair.nii\n"
     ]
    },
    {
     "name": "stderr",
     "output_type": "stream",
     "text": [
      "MovieWriter imagemagick unavailable; using Pillow instead.\n"
     ]
    },
    {
     "name": "stdout",
     "output_type": "stream",
     "text": [
      "Temporary file created: C:\\Users\\zaaim\\AppData\\Local\\Temp\\tmp1lw9h30l.nii\n",
      "Data shape for BraTS20_Training_112_flair.nii: (240, 240, 155)\n",
      "Temporary file created: C:\\Users\\zaaim\\AppData\\Local\\Temp\\tmpyv_njuwe.png\n",
      "Saving BraTS20_Training_112_flair.nii.gif\n",
      "Deleted temporary file: C:\\Users\\zaaim\\AppData\\Local\\Temp\\tmpyv_njuwe.png\n",
      "Deleted temporary file: C:\\Users\\zaaim\\AppData\\Local\\Temp\\tmp1lw9h30l.nii\n",
      "Fetching file: BraTS20_Training_112_seg.nii\n"
     ]
    },
    {
     "name": "stderr",
     "output_type": "stream",
     "text": [
      "MovieWriter imagemagick unavailable; using Pillow instead.\n"
     ]
    },
    {
     "name": "stdout",
     "output_type": "stream",
     "text": [
      "Temporary file created: C:\\Users\\zaaim\\AppData\\Local\\Temp\\tmpc0o7rb8k.nii\n",
      "Data shape for BraTS20_Training_112_seg.nii: (240, 240, 155)\n",
      "Temporary file created: C:\\Users\\zaaim\\AppData\\Local\\Temp\\tmptovbs5x7.png\n",
      "Saving BraTS20_Training_112_seg.nii.gif\n",
      "Deleted temporary file: C:\\Users\\zaaim\\AppData\\Local\\Temp\\tmptovbs5x7.png\n",
      "Deleted temporary file: C:\\Users\\zaaim\\AppData\\Local\\Temp\\tmpc0o7rb8k.nii\n",
      "Fetching file: BraTS20_Training_112_t1.nii\n"
     ]
    },
    {
     "name": "stderr",
     "output_type": "stream",
     "text": [
      "MovieWriter imagemagick unavailable; using Pillow instead.\n"
     ]
    },
    {
     "name": "stdout",
     "output_type": "stream",
     "text": [
      "Temporary file created: C:\\Users\\zaaim\\AppData\\Local\\Temp\\tmp66mshq6a.nii\n",
      "Data shape for BraTS20_Training_112_t1.nii: (240, 240, 155)\n",
      "Temporary file created: C:\\Users\\zaaim\\AppData\\Local\\Temp\\tmp9p9vo0kn.png\n",
      "Saving BraTS20_Training_112_t1.nii.gif\n",
      "Deleted temporary file: C:\\Users\\zaaim\\AppData\\Local\\Temp\\tmp9p9vo0kn.png\n",
      "Deleted temporary file: C:\\Users\\zaaim\\AppData\\Local\\Temp\\tmp66mshq6a.nii\n",
      "Fetching file: BraTS20_Training_112_t1ce.nii\n"
     ]
    },
    {
     "name": "stderr",
     "output_type": "stream",
     "text": [
      "MovieWriter imagemagick unavailable; using Pillow instead.\n"
     ]
    },
    {
     "name": "stdout",
     "output_type": "stream",
     "text": [
      "Temporary file created: C:\\Users\\zaaim\\AppData\\Local\\Temp\\tmpowp2n56k.nii\n",
      "Data shape for BraTS20_Training_112_t1ce.nii: (240, 240, 155)\n",
      "Temporary file created: C:\\Users\\zaaim\\AppData\\Local\\Temp\\tmpac9ysbwf.png\n",
      "Saving BraTS20_Training_112_t1ce.nii.gif\n",
      "Deleted temporary file: C:\\Users\\zaaim\\AppData\\Local\\Temp\\tmpac9ysbwf.png\n",
      "Deleted temporary file: C:\\Users\\zaaim\\AppData\\Local\\Temp\\tmpowp2n56k.nii\n",
      "Fetching file: BraTS20_Training_112_t2.nii\n"
     ]
    },
    {
     "name": "stderr",
     "output_type": "stream",
     "text": [
      "MovieWriter imagemagick unavailable; using Pillow instead.\n"
     ]
    },
    {
     "name": "stdout",
     "output_type": "stream",
     "text": [
      "Temporary file created: C:\\Users\\zaaim\\AppData\\Local\\Temp\\tmpapuswwse.nii\n",
      "Data shape for BraTS20_Training_112_t2.nii: (240, 240, 155)\n",
      "Temporary file created: C:\\Users\\zaaim\\AppData\\Local\\Temp\\tmp5evnpg5s.png\n",
      "Saving BraTS20_Training_112_t2.nii.gif\n",
      "Deleted temporary file: C:\\Users\\zaaim\\AppData\\Local\\Temp\\tmp5evnpg5s.png\n",
      "Deleted temporary file: C:\\Users\\zaaim\\AppData\\Local\\Temp\\tmpapuswwse.nii\n",
      "Fetching file: BraTS20_Training_113_flair.nii\n"
     ]
    },
    {
     "name": "stderr",
     "output_type": "stream",
     "text": [
      "MovieWriter imagemagick unavailable; using Pillow instead.\n"
     ]
    },
    {
     "name": "stdout",
     "output_type": "stream",
     "text": [
      "Temporary file created: C:\\Users\\zaaim\\AppData\\Local\\Temp\\tmpq4s2ufpq.nii\n",
      "Data shape for BraTS20_Training_113_flair.nii: (240, 240, 155)\n",
      "Temporary file created: C:\\Users\\zaaim\\AppData\\Local\\Temp\\tmpnmodqcf_.png\n",
      "Saving BraTS20_Training_113_flair.nii.gif\n",
      "Deleted temporary file: C:\\Users\\zaaim\\AppData\\Local\\Temp\\tmpnmodqcf_.png\n",
      "Deleted temporary file: C:\\Users\\zaaim\\AppData\\Local\\Temp\\tmpq4s2ufpq.nii\n",
      "Fetching file: BraTS20_Training_113_seg.nii\n"
     ]
    },
    {
     "name": "stderr",
     "output_type": "stream",
     "text": [
      "MovieWriter imagemagick unavailable; using Pillow instead.\n"
     ]
    },
    {
     "name": "stdout",
     "output_type": "stream",
     "text": [
      "Temporary file created: C:\\Users\\zaaim\\AppData\\Local\\Temp\\tmp1p09io25.nii\n",
      "Data shape for BraTS20_Training_113_seg.nii: (240, 240, 155)\n",
      "Temporary file created: C:\\Users\\zaaim\\AppData\\Local\\Temp\\tmphnz502j4.png\n",
      "Saving BraTS20_Training_113_seg.nii.gif\n",
      "Deleted temporary file: C:\\Users\\zaaim\\AppData\\Local\\Temp\\tmphnz502j4.png\n",
      "Deleted temporary file: C:\\Users\\zaaim\\AppData\\Local\\Temp\\tmp1p09io25.nii\n",
      "Fetching file: BraTS20_Training_113_t1.nii\n"
     ]
    },
    {
     "name": "stderr",
     "output_type": "stream",
     "text": [
      "MovieWriter imagemagick unavailable; using Pillow instead.\n"
     ]
    },
    {
     "name": "stdout",
     "output_type": "stream",
     "text": [
      "Temporary file created: C:\\Users\\zaaim\\AppData\\Local\\Temp\\tmpfobqmau4.nii\n",
      "Data shape for BraTS20_Training_113_t1.nii: (240, 240, 155)\n",
      "Temporary file created: C:\\Users\\zaaim\\AppData\\Local\\Temp\\tmp83kis70t.png\n",
      "Saving BraTS20_Training_113_t1.nii.gif\n",
      "Deleted temporary file: C:\\Users\\zaaim\\AppData\\Local\\Temp\\tmp83kis70t.png\n",
      "Deleted temporary file: C:\\Users\\zaaim\\AppData\\Local\\Temp\\tmpfobqmau4.nii\n",
      "Fetching file: BraTS20_Training_113_t1ce.nii\n"
     ]
    },
    {
     "name": "stderr",
     "output_type": "stream",
     "text": [
      "MovieWriter imagemagick unavailable; using Pillow instead.\n"
     ]
    },
    {
     "name": "stdout",
     "output_type": "stream",
     "text": [
      "Temporary file created: C:\\Users\\zaaim\\AppData\\Local\\Temp\\tmp4h9z3l2h.nii\n",
      "Data shape for BraTS20_Training_113_t1ce.nii: (240, 240, 155)\n",
      "Temporary file created: C:\\Users\\zaaim\\AppData\\Local\\Temp\\tmpzpomxblz.png\n",
      "Saving BraTS20_Training_113_t1ce.nii.gif\n",
      "Deleted temporary file: C:\\Users\\zaaim\\AppData\\Local\\Temp\\tmpzpomxblz.png\n",
      "Deleted temporary file: C:\\Users\\zaaim\\AppData\\Local\\Temp\\tmp4h9z3l2h.nii\n",
      "Fetching file: BraTS20_Training_113_t2.nii\n"
     ]
    },
    {
     "name": "stderr",
     "output_type": "stream",
     "text": [
      "MovieWriter imagemagick unavailable; using Pillow instead.\n"
     ]
    },
    {
     "name": "stdout",
     "output_type": "stream",
     "text": [
      "Temporary file created: C:\\Users\\zaaim\\AppData\\Local\\Temp\\tmp446ow_tz.nii\n",
      "Data shape for BraTS20_Training_113_t2.nii: (240, 240, 155)\n",
      "Temporary file created: C:\\Users\\zaaim\\AppData\\Local\\Temp\\tmpet3ctyzq.png\n",
      "Saving BraTS20_Training_113_t2.nii.gif\n",
      "Deleted temporary file: C:\\Users\\zaaim\\AppData\\Local\\Temp\\tmpet3ctyzq.png\n",
      "Deleted temporary file: C:\\Users\\zaaim\\AppData\\Local\\Temp\\tmp446ow_tz.nii\n",
      "Fetching file: BraTS20_Training_114_flair.nii\n"
     ]
    },
    {
     "name": "stderr",
     "output_type": "stream",
     "text": [
      "C:\\Users\\zaaim\\AppData\\Local\\Temp\\ipykernel_35824\\367712789.py:74: RuntimeWarning: More than 20 figures have been opened. Figures created through the pyplot interface (`matplotlib.pyplot.figure`) are retained until explicitly closed and may consume too much memory. (To control this warning, see the rcParam `figure.max_open_warning`). Consider using `matplotlib.pyplot.close()`.\n",
      "  fig, ax = plt.subplots(figsize=(6, 6))\n",
      "MovieWriter imagemagick unavailable; using Pillow instead.\n"
     ]
    },
    {
     "name": "stdout",
     "output_type": "stream",
     "text": [
      "Temporary file created: C:\\Users\\zaaim\\AppData\\Local\\Temp\\tmpdl5k3yde.nii\n",
      "Data shape for BraTS20_Training_114_flair.nii: (240, 240, 155)\n",
      "Temporary file created: C:\\Users\\zaaim\\AppData\\Local\\Temp\\tmpusq10c_j.png\n",
      "Saving BraTS20_Training_114_flair.nii.gif\n",
      "Deleted temporary file: C:\\Users\\zaaim\\AppData\\Local\\Temp\\tmpusq10c_j.png\n",
      "Deleted temporary file: C:\\Users\\zaaim\\AppData\\Local\\Temp\\tmpdl5k3yde.nii\n",
      "Fetching file: BraTS20_Training_114_seg.nii\n"
     ]
    },
    {
     "name": "stderr",
     "output_type": "stream",
     "text": [
      "MovieWriter imagemagick unavailable; using Pillow instead.\n"
     ]
    },
    {
     "name": "stdout",
     "output_type": "stream",
     "text": [
      "Temporary file created: C:\\Users\\zaaim\\AppData\\Local\\Temp\\tmpnqy39ftd.nii\n",
      "Data shape for BraTS20_Training_114_seg.nii: (240, 240, 155)\n",
      "Temporary file created: C:\\Users\\zaaim\\AppData\\Local\\Temp\\tmpmx8sa2jp.png\n",
      "Saving BraTS20_Training_114_seg.nii.gif\n",
      "Deleted temporary file: C:\\Users\\zaaim\\AppData\\Local\\Temp\\tmpmx8sa2jp.png\n",
      "Deleted temporary file: C:\\Users\\zaaim\\AppData\\Local\\Temp\\tmpnqy39ftd.nii\n",
      "Fetching file: BraTS20_Training_114_t1.nii\n"
     ]
    },
    {
     "name": "stderr",
     "output_type": "stream",
     "text": [
      "MovieWriter imagemagick unavailable; using Pillow instead.\n"
     ]
    },
    {
     "name": "stdout",
     "output_type": "stream",
     "text": [
      "Temporary file created: C:\\Users\\zaaim\\AppData\\Local\\Temp\\tmpytirpc3i.nii\n",
      "Data shape for BraTS20_Training_114_t1.nii: (240, 240, 155)\n",
      "Temporary file created: C:\\Users\\zaaim\\AppData\\Local\\Temp\\tmpaixha4gl.png\n",
      "Saving BraTS20_Training_114_t1.nii.gif\n",
      "Deleted temporary file: C:\\Users\\zaaim\\AppData\\Local\\Temp\\tmpaixha4gl.png\n",
      "Deleted temporary file: C:\\Users\\zaaim\\AppData\\Local\\Temp\\tmpytirpc3i.nii\n",
      "Fetching file: BraTS20_Training_114_t1ce.nii\n"
     ]
    },
    {
     "name": "stderr",
     "output_type": "stream",
     "text": [
      "MovieWriter imagemagick unavailable; using Pillow instead.\n"
     ]
    },
    {
     "name": "stdout",
     "output_type": "stream",
     "text": [
      "Temporary file created: C:\\Users\\zaaim\\AppData\\Local\\Temp\\tmp9ukkgb9h.nii\n",
      "Data shape for BraTS20_Training_114_t1ce.nii: (240, 240, 155)\n",
      "Temporary file created: C:\\Users\\zaaim\\AppData\\Local\\Temp\\tmpm1c1kb4_.png\n",
      "Saving BraTS20_Training_114_t1ce.nii.gif\n",
      "Deleted temporary file: C:\\Users\\zaaim\\AppData\\Local\\Temp\\tmpm1c1kb4_.png\n",
      "Deleted temporary file: C:\\Users\\zaaim\\AppData\\Local\\Temp\\tmp9ukkgb9h.nii\n",
      "Fetching file: BraTS20_Training_114_t2.nii\n"
     ]
    },
    {
     "name": "stderr",
     "output_type": "stream",
     "text": [
      "MovieWriter imagemagick unavailable; using Pillow instead.\n"
     ]
    },
    {
     "name": "stdout",
     "output_type": "stream",
     "text": [
      "Temporary file created: C:\\Users\\zaaim\\AppData\\Local\\Temp\\tmp4oeyd7se.nii\n",
      "Data shape for BraTS20_Training_114_t2.nii: (240, 240, 155)\n",
      "Temporary file created: C:\\Users\\zaaim\\AppData\\Local\\Temp\\tmpayc0zr8q.png\n",
      "Saving BraTS20_Training_114_t2.nii.gif\n",
      "Deleted temporary file: C:\\Users\\zaaim\\AppData\\Local\\Temp\\tmpayc0zr8q.png\n",
      "Deleted temporary file: C:\\Users\\zaaim\\AppData\\Local\\Temp\\tmp4oeyd7se.nii\n",
      "Fetching file: BraTS20_Training_115_flair.nii\n"
     ]
    },
    {
     "name": "stderr",
     "output_type": "stream",
     "text": [
      "MovieWriter imagemagick unavailable; using Pillow instead.\n"
     ]
    },
    {
     "name": "stdout",
     "output_type": "stream",
     "text": [
      "Temporary file created: C:\\Users\\zaaim\\AppData\\Local\\Temp\\tmpt2t4k4af.nii\n",
      "Data shape for BraTS20_Training_115_flair.nii: (240, 240, 155)\n",
      "Temporary file created: C:\\Users\\zaaim\\AppData\\Local\\Temp\\tmp496rzl3y.png\n",
      "Saving BraTS20_Training_115_flair.nii.gif\n",
      "Deleted temporary file: C:\\Users\\zaaim\\AppData\\Local\\Temp\\tmp496rzl3y.png\n",
      "Deleted temporary file: C:\\Users\\zaaim\\AppData\\Local\\Temp\\tmpt2t4k4af.nii\n",
      "Fetching file: BraTS20_Training_115_seg.nii\n"
     ]
    },
    {
     "name": "stderr",
     "output_type": "stream",
     "text": [
      "MovieWriter imagemagick unavailable; using Pillow instead.\n"
     ]
    },
    {
     "name": "stdout",
     "output_type": "stream",
     "text": [
      "Temporary file created: C:\\Users\\zaaim\\AppData\\Local\\Temp\\tmpmnalagzn.nii\n",
      "Data shape for BraTS20_Training_115_seg.nii: (240, 240, 155)\n",
      "Temporary file created: C:\\Users\\zaaim\\AppData\\Local\\Temp\\tmp2l0409xa.png\n",
      "Saving BraTS20_Training_115_seg.nii.gif\n",
      "Deleted temporary file: C:\\Users\\zaaim\\AppData\\Local\\Temp\\tmp2l0409xa.png\n",
      "Deleted temporary file: C:\\Users\\zaaim\\AppData\\Local\\Temp\\tmpmnalagzn.nii\n",
      "Fetching file: BraTS20_Training_115_t1.nii\n"
     ]
    },
    {
     "name": "stderr",
     "output_type": "stream",
     "text": [
      "MovieWriter imagemagick unavailable; using Pillow instead.\n"
     ]
    },
    {
     "name": "stdout",
     "output_type": "stream",
     "text": [
      "Temporary file created: C:\\Users\\zaaim\\AppData\\Local\\Temp\\tmphzdnal0c.nii\n",
      "Data shape for BraTS20_Training_115_t1.nii: (240, 240, 155)\n",
      "Temporary file created: C:\\Users\\zaaim\\AppData\\Local\\Temp\\tmpbswt79xu.png\n",
      "Saving BraTS20_Training_115_t1.nii.gif\n",
      "Deleted temporary file: C:\\Users\\zaaim\\AppData\\Local\\Temp\\tmpbswt79xu.png\n",
      "Deleted temporary file: C:\\Users\\zaaim\\AppData\\Local\\Temp\\tmphzdnal0c.nii\n",
      "Fetching file: BraTS20_Training_115_t1ce.nii\n"
     ]
    },
    {
     "name": "stderr",
     "output_type": "stream",
     "text": [
      "MovieWriter imagemagick unavailable; using Pillow instead.\n"
     ]
    },
    {
     "name": "stdout",
     "output_type": "stream",
     "text": [
      "Temporary file created: C:\\Users\\zaaim\\AppData\\Local\\Temp\\tmp9xaptnok.nii\n",
      "Data shape for BraTS20_Training_115_t1ce.nii: (240, 240, 155)\n",
      "Temporary file created: C:\\Users\\zaaim\\AppData\\Local\\Temp\\tmp11l4mdli.png\n",
      "Saving BraTS20_Training_115_t1ce.nii.gif\n",
      "Deleted temporary file: C:\\Users\\zaaim\\AppData\\Local\\Temp\\tmp11l4mdli.png\n",
      "Deleted temporary file: C:\\Users\\zaaim\\AppData\\Local\\Temp\\tmp9xaptnok.nii\n",
      "Fetching file: BraTS20_Training_115_t2.nii\n"
     ]
    },
    {
     "name": "stderr",
     "output_type": "stream",
     "text": [
      "MovieWriter imagemagick unavailable; using Pillow instead.\n"
     ]
    },
    {
     "name": "stdout",
     "output_type": "stream",
     "text": [
      "Temporary file created: C:\\Users\\zaaim\\AppData\\Local\\Temp\\tmpmlyyqg4o.nii\n",
      "Data shape for BraTS20_Training_115_t2.nii: (240, 240, 155)\n",
      "Temporary file created: C:\\Users\\zaaim\\AppData\\Local\\Temp\\tmpn1ahm5x8.png\n",
      "Saving BraTS20_Training_115_t2.nii.gif\n",
      "Deleted temporary file: C:\\Users\\zaaim\\AppData\\Local\\Temp\\tmpn1ahm5x8.png\n",
      "Deleted temporary file: C:\\Users\\zaaim\\AppData\\Local\\Temp\\tmpmlyyqg4o.nii\n",
      "Fetching file: BraTS20_Training_122_flair.nii\n"
     ]
    },
    {
     "name": "stderr",
     "output_type": "stream",
     "text": [
      "MovieWriter imagemagick unavailable; using Pillow instead.\n"
     ]
    },
    {
     "name": "stdout",
     "output_type": "stream",
     "text": [
      "Temporary file created: C:\\Users\\zaaim\\AppData\\Local\\Temp\\tmpt3pvcqup.nii\n",
      "Data shape for BraTS20_Training_122_flair.nii: (240, 240, 155)\n",
      "Temporary file created: C:\\Users\\zaaim\\AppData\\Local\\Temp\\tmp8cmbmb18.png\n",
      "Saving BraTS20_Training_122_flair.nii.gif\n",
      "Deleted temporary file: C:\\Users\\zaaim\\AppData\\Local\\Temp\\tmp8cmbmb18.png\n",
      "Deleted temporary file: C:\\Users\\zaaim\\AppData\\Local\\Temp\\tmpt3pvcqup.nii\n",
      "Fetching file: BraTS20_Training_122_seg.nii\n"
     ]
    },
    {
     "name": "stderr",
     "output_type": "stream",
     "text": [
      "MovieWriter imagemagick unavailable; using Pillow instead.\n"
     ]
    },
    {
     "name": "stdout",
     "output_type": "stream",
     "text": [
      "Temporary file created: C:\\Users\\zaaim\\AppData\\Local\\Temp\\tmpy3syqox4.nii\n",
      "Data shape for BraTS20_Training_122_seg.nii: (240, 240, 155)\n",
      "Temporary file created: C:\\Users\\zaaim\\AppData\\Local\\Temp\\tmpdw0iny7x.png\n",
      "Saving BraTS20_Training_122_seg.nii.gif\n",
      "Deleted temporary file: C:\\Users\\zaaim\\AppData\\Local\\Temp\\tmpdw0iny7x.png\n",
      "Deleted temporary file: C:\\Users\\zaaim\\AppData\\Local\\Temp\\tmpy3syqox4.nii\n",
      "Fetching file: BraTS20_Training_122_t1.nii\n"
     ]
    },
    {
     "name": "stderr",
     "output_type": "stream",
     "text": [
      "MovieWriter imagemagick unavailable; using Pillow instead.\n"
     ]
    },
    {
     "name": "stdout",
     "output_type": "stream",
     "text": [
      "Temporary file created: C:\\Users\\zaaim\\AppData\\Local\\Temp\\tmpjh6s2ugh.nii\n",
      "Data shape for BraTS20_Training_122_t1.nii: (240, 240, 155)\n",
      "Temporary file created: C:\\Users\\zaaim\\AppData\\Local\\Temp\\tmpefk03xsi.png\n",
      "Saving BraTS20_Training_122_t1.nii.gif\n",
      "Deleted temporary file: C:\\Users\\zaaim\\AppData\\Local\\Temp\\tmpefk03xsi.png\n",
      "Deleted temporary file: C:\\Users\\zaaim\\AppData\\Local\\Temp\\tmpjh6s2ugh.nii\n",
      "Fetching file: BraTS20_Training_122_t1ce.nii\n"
     ]
    },
    {
     "name": "stderr",
     "output_type": "stream",
     "text": [
      "MovieWriter imagemagick unavailable; using Pillow instead.\n"
     ]
    },
    {
     "name": "stdout",
     "output_type": "stream",
     "text": [
      "Temporary file created: C:\\Users\\zaaim\\AppData\\Local\\Temp\\tmpf2hgwp9t.nii\n",
      "Data shape for BraTS20_Training_122_t1ce.nii: (240, 240, 155)\n",
      "Temporary file created: C:\\Users\\zaaim\\AppData\\Local\\Temp\\tmp1nucs48h.png\n",
      "Saving BraTS20_Training_122_t1ce.nii.gif\n",
      "Deleted temporary file: C:\\Users\\zaaim\\AppData\\Local\\Temp\\tmp1nucs48h.png\n",
      "Deleted temporary file: C:\\Users\\zaaim\\AppData\\Local\\Temp\\tmpf2hgwp9t.nii\n",
      "Fetching file: BraTS20_Training_122_t2.nii\n"
     ]
    },
    {
     "name": "stderr",
     "output_type": "stream",
     "text": [
      "MovieWriter imagemagick unavailable; using Pillow instead.\n"
     ]
    },
    {
     "name": "stdout",
     "output_type": "stream",
     "text": [
      "Temporary file created: C:\\Users\\zaaim\\AppData\\Local\\Temp\\tmpmfrcvgo7.nii\n",
      "Data shape for BraTS20_Training_122_t2.nii: (240, 240, 155)\n",
      "Temporary file created: C:\\Users\\zaaim\\AppData\\Local\\Temp\\tmp2_jj_lg6.png\n",
      "Saving BraTS20_Training_122_t2.nii.gif\n",
      "Deleted temporary file: C:\\Users\\zaaim\\AppData\\Local\\Temp\\tmp2_jj_lg6.png\n",
      "Deleted temporary file: C:\\Users\\zaaim\\AppData\\Local\\Temp\\tmpmfrcvgo7.nii\n",
      "Fetching file: BraTS20_Training_123_flair.nii\n"
     ]
    },
    {
     "name": "stderr",
     "output_type": "stream",
     "text": [
      "MovieWriter imagemagick unavailable; using Pillow instead.\n"
     ]
    },
    {
     "name": "stdout",
     "output_type": "stream",
     "text": [
      "Temporary file created: C:\\Users\\zaaim\\AppData\\Local\\Temp\\tmp43wacg6r.nii\n",
      "Data shape for BraTS20_Training_123_flair.nii: (240, 240, 155)\n",
      "Temporary file created: C:\\Users\\zaaim\\AppData\\Local\\Temp\\tmpbb3ool0u.png\n",
      "Saving BraTS20_Training_123_flair.nii.gif\n",
      "Deleted temporary file: C:\\Users\\zaaim\\AppData\\Local\\Temp\\tmpbb3ool0u.png\n",
      "Deleted temporary file: C:\\Users\\zaaim\\AppData\\Local\\Temp\\tmp43wacg6r.nii\n",
      "Fetching file: BraTS20_Training_123_seg.nii\n"
     ]
    },
    {
     "name": "stderr",
     "output_type": "stream",
     "text": [
      "MovieWriter imagemagick unavailable; using Pillow instead.\n"
     ]
    },
    {
     "name": "stdout",
     "output_type": "stream",
     "text": [
      "Temporary file created: C:\\Users\\zaaim\\AppData\\Local\\Temp\\tmp7vdvvj5d.nii\n",
      "Data shape for BraTS20_Training_123_seg.nii: (240, 240, 155)\n",
      "Temporary file created: C:\\Users\\zaaim\\AppData\\Local\\Temp\\tmp_udr2825.png\n",
      "Saving BraTS20_Training_123_seg.nii.gif\n",
      "Deleted temporary file: C:\\Users\\zaaim\\AppData\\Local\\Temp\\tmp_udr2825.png\n",
      "Deleted temporary file: C:\\Users\\zaaim\\AppData\\Local\\Temp\\tmp7vdvvj5d.nii\n",
      "Fetching file: BraTS20_Training_123_t1.nii\n"
     ]
    },
    {
     "name": "stderr",
     "output_type": "stream",
     "text": [
      "MovieWriter imagemagick unavailable; using Pillow instead.\n"
     ]
    },
    {
     "name": "stdout",
     "output_type": "stream",
     "text": [
      "Temporary file created: C:\\Users\\zaaim\\AppData\\Local\\Temp\\tmp_yguuj7v.nii\n",
      "Data shape for BraTS20_Training_123_t1.nii: (240, 240, 155)\n",
      "Temporary file created: C:\\Users\\zaaim\\AppData\\Local\\Temp\\tmp9fg70cwj.png\n",
      "Saving BraTS20_Training_123_t1.nii.gif\n",
      "Deleted temporary file: C:\\Users\\zaaim\\AppData\\Local\\Temp\\tmp9fg70cwj.png\n",
      "Deleted temporary file: C:\\Users\\zaaim\\AppData\\Local\\Temp\\tmp_yguuj7v.nii\n",
      "Fetching file: BraTS20_Training_123_t1ce.nii\n"
     ]
    },
    {
     "name": "stderr",
     "output_type": "stream",
     "text": [
      "MovieWriter imagemagick unavailable; using Pillow instead.\n"
     ]
    },
    {
     "name": "stdout",
     "output_type": "stream",
     "text": [
      "Temporary file created: C:\\Users\\zaaim\\AppData\\Local\\Temp\\tmp2i4wunh1.nii\n",
      "Data shape for BraTS20_Training_123_t1ce.nii: (240, 240, 155)\n",
      "Temporary file created: C:\\Users\\zaaim\\AppData\\Local\\Temp\\tmpy7ztb_ei.png\n",
      "Saving BraTS20_Training_123_t1ce.nii.gif\n",
      "Deleted temporary file: C:\\Users\\zaaim\\AppData\\Local\\Temp\\tmpy7ztb_ei.png\n",
      "Deleted temporary file: C:\\Users\\zaaim\\AppData\\Local\\Temp\\tmp2i4wunh1.nii\n",
      "Fetching file: BraTS20_Training_123_t2.nii\n"
     ]
    },
    {
     "name": "stderr",
     "output_type": "stream",
     "text": [
      "MovieWriter imagemagick unavailable; using Pillow instead.\n"
     ]
    },
    {
     "name": "stdout",
     "output_type": "stream",
     "text": [
      "Temporary file created: C:\\Users\\zaaim\\AppData\\Local\\Temp\\tmp03neamwu.nii\n",
      "Data shape for BraTS20_Training_123_t2.nii: (240, 240, 155)\n",
      "Temporary file created: C:\\Users\\zaaim\\AppData\\Local\\Temp\\tmppsfttik5.png\n",
      "Saving BraTS20_Training_123_t2.nii.gif\n",
      "Deleted temporary file: C:\\Users\\zaaim\\AppData\\Local\\Temp\\tmppsfttik5.png\n",
      "Deleted temporary file: C:\\Users\\zaaim\\AppData\\Local\\Temp\\tmp03neamwu.nii\n",
      "Fetching file: BraTS20_Training_124_flair.nii\n"
     ]
    },
    {
     "name": "stderr",
     "output_type": "stream",
     "text": [
      "MovieWriter imagemagick unavailable; using Pillow instead.\n"
     ]
    },
    {
     "name": "stdout",
     "output_type": "stream",
     "text": [
      "Temporary file created: C:\\Users\\zaaim\\AppData\\Local\\Temp\\tmp411dy18j.nii\n",
      "Data shape for BraTS20_Training_124_flair.nii: (240, 240, 155)\n",
      "Temporary file created: C:\\Users\\zaaim\\AppData\\Local\\Temp\\tmpxducpu3s.png\n",
      "Saving BraTS20_Training_124_flair.nii.gif\n",
      "Deleted temporary file: C:\\Users\\zaaim\\AppData\\Local\\Temp\\tmpxducpu3s.png\n",
      "Deleted temporary file: C:\\Users\\zaaim\\AppData\\Local\\Temp\\tmp411dy18j.nii\n",
      "Fetching file: BraTS20_Training_124_seg.nii\n"
     ]
    },
    {
     "name": "stderr",
     "output_type": "stream",
     "text": [
      "MovieWriter imagemagick unavailable; using Pillow instead.\n"
     ]
    },
    {
     "name": "stdout",
     "output_type": "stream",
     "text": [
      "Temporary file created: C:\\Users\\zaaim\\AppData\\Local\\Temp\\tmp2hpt_y6u.nii\n",
      "Data shape for BraTS20_Training_124_seg.nii: (240, 240, 155)\n",
      "Temporary file created: C:\\Users\\zaaim\\AppData\\Local\\Temp\\tmpvaa5ny6t.png\n",
      "Saving BraTS20_Training_124_seg.nii.gif\n",
      "Deleted temporary file: C:\\Users\\zaaim\\AppData\\Local\\Temp\\tmpvaa5ny6t.png\n",
      "Deleted temporary file: C:\\Users\\zaaim\\AppData\\Local\\Temp\\tmp2hpt_y6u.nii\n",
      "Fetching file: BraTS20_Training_124_t1.nii\n"
     ]
    },
    {
     "name": "stderr",
     "output_type": "stream",
     "text": [
      "MovieWriter imagemagick unavailable; using Pillow instead.\n"
     ]
    },
    {
     "name": "stdout",
     "output_type": "stream",
     "text": [
      "Temporary file created: C:\\Users\\zaaim\\AppData\\Local\\Temp\\tmp126wbyef.nii\n",
      "Data shape for BraTS20_Training_124_t1.nii: (240, 240, 155)\n",
      "Temporary file created: C:\\Users\\zaaim\\AppData\\Local\\Temp\\tmp8b7p_n03.png\n",
      "Saving BraTS20_Training_124_t1.nii.gif\n",
      "Deleted temporary file: C:\\Users\\zaaim\\AppData\\Local\\Temp\\tmp8b7p_n03.png\n",
      "Deleted temporary file: C:\\Users\\zaaim\\AppData\\Local\\Temp\\tmp126wbyef.nii\n",
      "Fetching file: BraTS20_Training_124_t1ce.nii\n"
     ]
    },
    {
     "name": "stderr",
     "output_type": "stream",
     "text": [
      "MovieWriter imagemagick unavailable; using Pillow instead.\n"
     ]
    },
    {
     "name": "stdout",
     "output_type": "stream",
     "text": [
      "Temporary file created: C:\\Users\\zaaim\\AppData\\Local\\Temp\\tmpqw082bn5.nii\n",
      "Data shape for BraTS20_Training_124_t1ce.nii: (240, 240, 155)\n",
      "Temporary file created: C:\\Users\\zaaim\\AppData\\Local\\Temp\\tmp4ozhzak5.png\n",
      "Saving BraTS20_Training_124_t1ce.nii.gif\n",
      "Deleted temporary file: C:\\Users\\zaaim\\AppData\\Local\\Temp\\tmp4ozhzak5.png\n",
      "Deleted temporary file: C:\\Users\\zaaim\\AppData\\Local\\Temp\\tmpqw082bn5.nii\n",
      "Fetching file: BraTS20_Training_124_t2.nii\n"
     ]
    },
    {
     "name": "stderr",
     "output_type": "stream",
     "text": [
      "MovieWriter imagemagick unavailable; using Pillow instead.\n"
     ]
    },
    {
     "name": "stdout",
     "output_type": "stream",
     "text": [
      "Temporary file created: C:\\Users\\zaaim\\AppData\\Local\\Temp\\tmpuwip4s85.nii\n",
      "Data shape for BraTS20_Training_124_t2.nii: (240, 240, 155)\n",
      "Temporary file created: C:\\Users\\zaaim\\AppData\\Local\\Temp\\tmpabjk63o4.png\n",
      "Saving BraTS20_Training_124_t2.nii.gif\n",
      "Deleted temporary file: C:\\Users\\zaaim\\AppData\\Local\\Temp\\tmpabjk63o4.png\n",
      "Deleted temporary file: C:\\Users\\zaaim\\AppData\\Local\\Temp\\tmpuwip4s85.nii\n",
      "Fetching file: BraTS20_Training_125_flair.nii\n"
     ]
    },
    {
     "name": "stderr",
     "output_type": "stream",
     "text": [
      "MovieWriter imagemagick unavailable; using Pillow instead.\n"
     ]
    },
    {
     "name": "stdout",
     "output_type": "stream",
     "text": [
      "Temporary file created: C:\\Users\\zaaim\\AppData\\Local\\Temp\\tmpwiyok5at.nii\n",
      "Data shape for BraTS20_Training_125_flair.nii: (240, 240, 155)\n",
      "Temporary file created: C:\\Users\\zaaim\\AppData\\Local\\Temp\\tmp9f12g87n.png\n",
      "Saving BraTS20_Training_125_flair.nii.gif\n",
      "Deleted temporary file: C:\\Users\\zaaim\\AppData\\Local\\Temp\\tmp9f12g87n.png\n",
      "Deleted temporary file: C:\\Users\\zaaim\\AppData\\Local\\Temp\\tmpwiyok5at.nii\n",
      "Fetching file: BraTS20_Training_125_seg.nii\n"
     ]
    },
    {
     "name": "stderr",
     "output_type": "stream",
     "text": [
      "MovieWriter imagemagick unavailable; using Pillow instead.\n"
     ]
    },
    {
     "name": "stdout",
     "output_type": "stream",
     "text": [
      "Temporary file created: C:\\Users\\zaaim\\AppData\\Local\\Temp\\tmp0djfzoti.nii\n",
      "Data shape for BraTS20_Training_125_seg.nii: (240, 240, 155)\n",
      "Temporary file created: C:\\Users\\zaaim\\AppData\\Local\\Temp\\tmpkga0tp9w.png\n",
      "Saving BraTS20_Training_125_seg.nii.gif\n",
      "Deleted temporary file: C:\\Users\\zaaim\\AppData\\Local\\Temp\\tmpkga0tp9w.png\n",
      "Deleted temporary file: C:\\Users\\zaaim\\AppData\\Local\\Temp\\tmp0djfzoti.nii\n",
      "Fetching file: BraTS20_Training_125_t1.nii\n"
     ]
    },
    {
     "name": "stderr",
     "output_type": "stream",
     "text": [
      "MovieWriter imagemagick unavailable; using Pillow instead.\n"
     ]
    },
    {
     "name": "stdout",
     "output_type": "stream",
     "text": [
      "Temporary file created: C:\\Users\\zaaim\\AppData\\Local\\Temp\\tmpydlj4k6a.nii\n",
      "Data shape for BraTS20_Training_125_t1.nii: (240, 240, 155)\n",
      "Temporary file created: C:\\Users\\zaaim\\AppData\\Local\\Temp\\tmpmn7va95b.png\n",
      "Saving BraTS20_Training_125_t1.nii.gif\n",
      "Deleted temporary file: C:\\Users\\zaaim\\AppData\\Local\\Temp\\tmpmn7va95b.png\n",
      "Deleted temporary file: C:\\Users\\zaaim\\AppData\\Local\\Temp\\tmpydlj4k6a.nii\n",
      "Fetching file: BraTS20_Training_125_t1ce.nii\n"
     ]
    },
    {
     "name": "stderr",
     "output_type": "stream",
     "text": [
      "MovieWriter imagemagick unavailable; using Pillow instead.\n"
     ]
    },
    {
     "name": "stdout",
     "output_type": "stream",
     "text": [
      "Temporary file created: C:\\Users\\zaaim\\AppData\\Local\\Temp\\tmpkzteykdu.nii\n",
      "Data shape for BraTS20_Training_125_t1ce.nii: (240, 240, 155)\n",
      "Temporary file created: C:\\Users\\zaaim\\AppData\\Local\\Temp\\tmpfm_tbyoa.png\n",
      "Saving BraTS20_Training_125_t1ce.nii.gif\n",
      "Deleted temporary file: C:\\Users\\zaaim\\AppData\\Local\\Temp\\tmpfm_tbyoa.png\n",
      "Deleted temporary file: C:\\Users\\zaaim\\AppData\\Local\\Temp\\tmpkzteykdu.nii\n",
      "Fetching file: BraTS20_Training_125_t2.nii\n"
     ]
    },
    {
     "name": "stderr",
     "output_type": "stream",
     "text": [
      "MovieWriter imagemagick unavailable; using Pillow instead.\n"
     ]
    },
    {
     "name": "stdout",
     "output_type": "stream",
     "text": [
      "Temporary file created: C:\\Users\\zaaim\\AppData\\Local\\Temp\\tmpbzzx6n_r.nii\n",
      "Data shape for BraTS20_Training_125_t2.nii: (240, 240, 155)\n",
      "Temporary file created: C:\\Users\\zaaim\\AppData\\Local\\Temp\\tmpw6jwov9t.png\n",
      "Saving BraTS20_Training_125_t2.nii.gif\n",
      "Deleted temporary file: C:\\Users\\zaaim\\AppData\\Local\\Temp\\tmpw6jwov9t.png\n",
      "Deleted temporary file: C:\\Users\\zaaim\\AppData\\Local\\Temp\\tmpbzzx6n_r.nii\n",
      "Fetching file: BraTS20_Training_140_flair.nii\n"
     ]
    },
    {
     "name": "stderr",
     "output_type": "stream",
     "text": [
      "MovieWriter imagemagick unavailable; using Pillow instead.\n"
     ]
    },
    {
     "name": "stdout",
     "output_type": "stream",
     "text": [
      "Temporary file created: C:\\Users\\zaaim\\AppData\\Local\\Temp\\tmpifoep9nc.nii\n",
      "Data shape for BraTS20_Training_140_flair.nii: (240, 240, 155)\n",
      "Temporary file created: C:\\Users\\zaaim\\AppData\\Local\\Temp\\tmpv5f0pkna.png\n",
      "Saving BraTS20_Training_140_flair.nii.gif\n",
      "Deleted temporary file: C:\\Users\\zaaim\\AppData\\Local\\Temp\\tmpv5f0pkna.png\n",
      "Deleted temporary file: C:\\Users\\zaaim\\AppData\\Local\\Temp\\tmpifoep9nc.nii\n",
      "Fetching file: BraTS20_Training_140_seg.nii\n"
     ]
    },
    {
     "name": "stderr",
     "output_type": "stream",
     "text": [
      "MovieWriter imagemagick unavailable; using Pillow instead.\n"
     ]
    },
    {
     "name": "stdout",
     "output_type": "stream",
     "text": [
      "Temporary file created: C:\\Users\\zaaim\\AppData\\Local\\Temp\\tmph9hmk7t6.nii\n",
      "Data shape for BraTS20_Training_140_seg.nii: (240, 240, 155)\n",
      "Temporary file created: C:\\Users\\zaaim\\AppData\\Local\\Temp\\tmp2lqh5hrt.png\n",
      "Saving BraTS20_Training_140_seg.nii.gif\n",
      "Deleted temporary file: C:\\Users\\zaaim\\AppData\\Local\\Temp\\tmp2lqh5hrt.png\n",
      "Deleted temporary file: C:\\Users\\zaaim\\AppData\\Local\\Temp\\tmph9hmk7t6.nii\n",
      "Fetching file: BraTS20_Training_140_t1.nii\n"
     ]
    },
    {
     "name": "stderr",
     "output_type": "stream",
     "text": [
      "MovieWriter imagemagick unavailable; using Pillow instead.\n"
     ]
    },
    {
     "name": "stdout",
     "output_type": "stream",
     "text": [
      "Temporary file created: C:\\Users\\zaaim\\AppData\\Local\\Temp\\tmp6kc_7r2r.nii\n",
      "Data shape for BraTS20_Training_140_t1.nii: (240, 240, 155)\n",
      "Temporary file created: C:\\Users\\zaaim\\AppData\\Local\\Temp\\tmpvcy1bdn7.png\n",
      "Saving BraTS20_Training_140_t1.nii.gif\n",
      "Deleted temporary file: C:\\Users\\zaaim\\AppData\\Local\\Temp\\tmpvcy1bdn7.png\n",
      "Deleted temporary file: C:\\Users\\zaaim\\AppData\\Local\\Temp\\tmp6kc_7r2r.nii\n",
      "Fetching file: BraTS20_Training_140_t1ce.nii\n"
     ]
    },
    {
     "name": "stderr",
     "output_type": "stream",
     "text": [
      "MovieWriter imagemagick unavailable; using Pillow instead.\n"
     ]
    },
    {
     "name": "stdout",
     "output_type": "stream",
     "text": [
      "Temporary file created: C:\\Users\\zaaim\\AppData\\Local\\Temp\\tmp6haqliy4.nii\n",
      "Data shape for BraTS20_Training_140_t1ce.nii: (240, 240, 155)\n",
      "Temporary file created: C:\\Users\\zaaim\\AppData\\Local\\Temp\\tmpk_8n9nla.png\n",
      "Saving BraTS20_Training_140_t1ce.nii.gif\n",
      "Deleted temporary file: C:\\Users\\zaaim\\AppData\\Local\\Temp\\tmpk_8n9nla.png\n",
      "Deleted temporary file: C:\\Users\\zaaim\\AppData\\Local\\Temp\\tmp6haqliy4.nii\n",
      "Fetching file: BraTS20_Training_140_t2.nii\n"
     ]
    },
    {
     "name": "stderr",
     "output_type": "stream",
     "text": [
      "MovieWriter imagemagick unavailable; using Pillow instead.\n"
     ]
    },
    {
     "name": "stdout",
     "output_type": "stream",
     "text": [
      "Temporary file created: C:\\Users\\zaaim\\AppData\\Local\\Temp\\tmpvokp6u_b.nii\n",
      "Data shape for BraTS20_Training_140_t2.nii: (240, 240, 155)\n",
      "Temporary file created: C:\\Users\\zaaim\\AppData\\Local\\Temp\\tmpbj8ofcby.png\n",
      "Saving BraTS20_Training_140_t2.nii.gif\n",
      "Deleted temporary file: C:\\Users\\zaaim\\AppData\\Local\\Temp\\tmpbj8ofcby.png\n",
      "Deleted temporary file: C:\\Users\\zaaim\\AppData\\Local\\Temp\\tmpvokp6u_b.nii\n",
      "Fetching file: BraTS20_Training_141_flair.nii\n"
     ]
    },
    {
     "name": "stderr",
     "output_type": "stream",
     "text": [
      "MovieWriter imagemagick unavailable; using Pillow instead.\n"
     ]
    },
    {
     "name": "stdout",
     "output_type": "stream",
     "text": [
      "Temporary file created: C:\\Users\\zaaim\\AppData\\Local\\Temp\\tmpyujnkzbu.nii\n",
      "Data shape for BraTS20_Training_141_flair.nii: (240, 240, 155)\n",
      "Temporary file created: C:\\Users\\zaaim\\AppData\\Local\\Temp\\tmpp0_p300_.png\n",
      "Saving BraTS20_Training_141_flair.nii.gif\n",
      "Deleted temporary file: C:\\Users\\zaaim\\AppData\\Local\\Temp\\tmpp0_p300_.png\n",
      "Deleted temporary file: C:\\Users\\zaaim\\AppData\\Local\\Temp\\tmpyujnkzbu.nii\n",
      "Fetching file: BraTS20_Training_141_seg.nii\n"
     ]
    },
    {
     "name": "stderr",
     "output_type": "stream",
     "text": [
      "MovieWriter imagemagick unavailable; using Pillow instead.\n"
     ]
    },
    {
     "name": "stdout",
     "output_type": "stream",
     "text": [
      "Temporary file created: C:\\Users\\zaaim\\AppData\\Local\\Temp\\tmp2b0qjr58.nii\n",
      "Data shape for BraTS20_Training_141_seg.nii: (240, 240, 155)\n",
      "Temporary file created: C:\\Users\\zaaim\\AppData\\Local\\Temp\\tmpcmr9vch4.png\n",
      "Saving BraTS20_Training_141_seg.nii.gif\n",
      "Deleted temporary file: C:\\Users\\zaaim\\AppData\\Local\\Temp\\tmpcmr9vch4.png\n",
      "Deleted temporary file: C:\\Users\\zaaim\\AppData\\Local\\Temp\\tmp2b0qjr58.nii\n",
      "Fetching file: BraTS20_Training_141_t1.nii\n"
     ]
    },
    {
     "name": "stderr",
     "output_type": "stream",
     "text": [
      "MovieWriter imagemagick unavailable; using Pillow instead.\n"
     ]
    },
    {
     "name": "stdout",
     "output_type": "stream",
     "text": [
      "Temporary file created: C:\\Users\\zaaim\\AppData\\Local\\Temp\\tmp6qa8u5ao.nii\n",
      "Data shape for BraTS20_Training_141_t1.nii: (240, 240, 155)\n",
      "Temporary file created: C:\\Users\\zaaim\\AppData\\Local\\Temp\\tmpqiyz8y46.png\n",
      "Saving BraTS20_Training_141_t1.nii.gif\n",
      "Deleted temporary file: C:\\Users\\zaaim\\AppData\\Local\\Temp\\tmpqiyz8y46.png\n",
      "Deleted temporary file: C:\\Users\\zaaim\\AppData\\Local\\Temp\\tmp6qa8u5ao.nii\n",
      "Fetching file: BraTS20_Training_141_t1ce.nii\n"
     ]
    },
    {
     "name": "stderr",
     "output_type": "stream",
     "text": [
      "MovieWriter imagemagick unavailable; using Pillow instead.\n"
     ]
    },
    {
     "name": "stdout",
     "output_type": "stream",
     "text": [
      "Temporary file created: C:\\Users\\zaaim\\AppData\\Local\\Temp\\tmpj_gobmtr.nii\n",
      "Data shape for BraTS20_Training_141_t1ce.nii: (240, 240, 155)\n",
      "Temporary file created: C:\\Users\\zaaim\\AppData\\Local\\Temp\\tmp7uw2sods.png\n",
      "Saving BraTS20_Training_141_t1ce.nii.gif\n",
      "Deleted temporary file: C:\\Users\\zaaim\\AppData\\Local\\Temp\\tmp7uw2sods.png\n",
      "Deleted temporary file: C:\\Users\\zaaim\\AppData\\Local\\Temp\\tmpj_gobmtr.nii\n",
      "Fetching file: BraTS20_Training_141_t2.nii\n"
     ]
    },
    {
     "name": "stderr",
     "output_type": "stream",
     "text": [
      "MovieWriter imagemagick unavailable; using Pillow instead.\n"
     ]
    },
    {
     "name": "stdout",
     "output_type": "stream",
     "text": [
      "Temporary file created: C:\\Users\\zaaim\\AppData\\Local\\Temp\\tmpusm9rjsb.nii\n",
      "Data shape for BraTS20_Training_141_t2.nii: (240, 240, 155)\n",
      "Temporary file created: C:\\Users\\zaaim\\AppData\\Local\\Temp\\tmp_py1cb6e.png\n",
      "Saving BraTS20_Training_141_t2.nii.gif\n",
      "Deleted temporary file: C:\\Users\\zaaim\\AppData\\Local\\Temp\\tmp_py1cb6e.png\n",
      "Deleted temporary file: C:\\Users\\zaaim\\AppData\\Local\\Temp\\tmpusm9rjsb.nii\n",
      "Fetching file: BraTS20_Training_146_flair.nii\n"
     ]
    },
    {
     "name": "stderr",
     "output_type": "stream",
     "text": [
      "MovieWriter imagemagick unavailable; using Pillow instead.\n"
     ]
    },
    {
     "name": "stdout",
     "output_type": "stream",
     "text": [
      "Temporary file created: C:\\Users\\zaaim\\AppData\\Local\\Temp\\tmpug1kao_6.nii\n",
      "Data shape for BraTS20_Training_146_flair.nii: (240, 240, 155)\n",
      "Temporary file created: C:\\Users\\zaaim\\AppData\\Local\\Temp\\tmpk6014ym8.png\n",
      "Saving BraTS20_Training_146_flair.nii.gif\n",
      "Deleted temporary file: C:\\Users\\zaaim\\AppData\\Local\\Temp\\tmpk6014ym8.png\n",
      "Deleted temporary file: C:\\Users\\zaaim\\AppData\\Local\\Temp\\tmpug1kao_6.nii\n",
      "Fetching file: BraTS20_Training_146_seg.nii\n"
     ]
    },
    {
     "name": "stderr",
     "output_type": "stream",
     "text": [
      "MovieWriter imagemagick unavailable; using Pillow instead.\n"
     ]
    },
    {
     "name": "stdout",
     "output_type": "stream",
     "text": [
      "Temporary file created: C:\\Users\\zaaim\\AppData\\Local\\Temp\\tmp94403k98.nii\n",
      "Data shape for BraTS20_Training_146_seg.nii: (240, 240, 155)\n",
      "Temporary file created: C:\\Users\\zaaim\\AppData\\Local\\Temp\\tmpwd6ws4cm.png\n",
      "Saving BraTS20_Training_146_seg.nii.gif\n",
      "Deleted temporary file: C:\\Users\\zaaim\\AppData\\Local\\Temp\\tmpwd6ws4cm.png\n",
      "Deleted temporary file: C:\\Users\\zaaim\\AppData\\Local\\Temp\\tmp94403k98.nii\n",
      "Fetching file: BraTS20_Training_146_t1.nii\n"
     ]
    },
    {
     "name": "stderr",
     "output_type": "stream",
     "text": [
      "MovieWriter imagemagick unavailable; using Pillow instead.\n"
     ]
    },
    {
     "name": "stdout",
     "output_type": "stream",
     "text": [
      "Temporary file created: C:\\Users\\zaaim\\AppData\\Local\\Temp\\tmpbjbuc76u.nii\n",
      "Data shape for BraTS20_Training_146_t1.nii: (240, 240, 155)\n",
      "Temporary file created: C:\\Users\\zaaim\\AppData\\Local\\Temp\\tmpousunx1b.png\n",
      "Saving BraTS20_Training_146_t1.nii.gif\n",
      "Deleted temporary file: C:\\Users\\zaaim\\AppData\\Local\\Temp\\tmpousunx1b.png\n",
      "Deleted temporary file: C:\\Users\\zaaim\\AppData\\Local\\Temp\\tmpbjbuc76u.nii\n",
      "Fetching file: BraTS20_Training_146_t1ce.nii\n"
     ]
    },
    {
     "name": "stderr",
     "output_type": "stream",
     "text": [
      "MovieWriter imagemagick unavailable; using Pillow instead.\n"
     ]
    },
    {
     "name": "stdout",
     "output_type": "stream",
     "text": [
      "Temporary file created: C:\\Users\\zaaim\\AppData\\Local\\Temp\\tmpyn52eex_.nii\n",
      "Data shape for BraTS20_Training_146_t1ce.nii: (240, 240, 155)\n",
      "Temporary file created: C:\\Users\\zaaim\\AppData\\Local\\Temp\\tmp1nygubno.png\n",
      "Saving BraTS20_Training_146_t1ce.nii.gif\n",
      "Deleted temporary file: C:\\Users\\zaaim\\AppData\\Local\\Temp\\tmp1nygubno.png\n",
      "Deleted temporary file: C:\\Users\\zaaim\\AppData\\Local\\Temp\\tmpyn52eex_.nii\n",
      "Fetching file: BraTS20_Training_146_t2.nii\n"
     ]
    },
    {
     "name": "stderr",
     "output_type": "stream",
     "text": [
      "MovieWriter imagemagick unavailable; using Pillow instead.\n"
     ]
    },
    {
     "name": "stdout",
     "output_type": "stream",
     "text": [
      "Temporary file created: C:\\Users\\zaaim\\AppData\\Local\\Temp\\tmpu8o94wxh.nii\n",
      "Data shape for BraTS20_Training_146_t2.nii: (240, 240, 155)\n",
      "Temporary file created: C:\\Users\\zaaim\\AppData\\Local\\Temp\\tmpa2s1vpwd.png\n",
      "Saving BraTS20_Training_146_t2.nii.gif\n",
      "Deleted temporary file: C:\\Users\\zaaim\\AppData\\Local\\Temp\\tmpa2s1vpwd.png\n",
      "Deleted temporary file: C:\\Users\\zaaim\\AppData\\Local\\Temp\\tmpu8o94wxh.nii\n",
      "Fetching file: BraTS20_Training_147_flair.nii\n"
     ]
    },
    {
     "name": "stderr",
     "output_type": "stream",
     "text": [
      "MovieWriter imagemagick unavailable; using Pillow instead.\n"
     ]
    },
    {
     "name": "stdout",
     "output_type": "stream",
     "text": [
      "Temporary file created: C:\\Users\\zaaim\\AppData\\Local\\Temp\\tmpkqqvp5gr.nii\n",
      "Data shape for BraTS20_Training_147_flair.nii: (240, 240, 155)\n",
      "Temporary file created: C:\\Users\\zaaim\\AppData\\Local\\Temp\\tmplfqas1a4.png\n",
      "Saving BraTS20_Training_147_flair.nii.gif\n",
      "Deleted temporary file: C:\\Users\\zaaim\\AppData\\Local\\Temp\\tmplfqas1a4.png\n",
      "Deleted temporary file: C:\\Users\\zaaim\\AppData\\Local\\Temp\\tmpkqqvp5gr.nii\n",
      "Fetching file: BraTS20_Training_147_seg.nii\n"
     ]
    },
    {
     "name": "stderr",
     "output_type": "stream",
     "text": [
      "MovieWriter imagemagick unavailable; using Pillow instead.\n"
     ]
    },
    {
     "name": "stdout",
     "output_type": "stream",
     "text": [
      "Temporary file created: C:\\Users\\zaaim\\AppData\\Local\\Temp\\tmpgvivbzhk.nii\n",
      "Data shape for BraTS20_Training_147_seg.nii: (240, 240, 155)\n",
      "Temporary file created: C:\\Users\\zaaim\\AppData\\Local\\Temp\\tmp4ei4v4cc.png\n",
      "Saving BraTS20_Training_147_seg.nii.gif\n",
      "Deleted temporary file: C:\\Users\\zaaim\\AppData\\Local\\Temp\\tmp4ei4v4cc.png\n",
      "Deleted temporary file: C:\\Users\\zaaim\\AppData\\Local\\Temp\\tmpgvivbzhk.nii\n",
      "Fetching file: BraTS20_Training_147_t1.nii\n"
     ]
    },
    {
     "name": "stderr",
     "output_type": "stream",
     "text": [
      "MovieWriter imagemagick unavailable; using Pillow instead.\n"
     ]
    },
    {
     "name": "stdout",
     "output_type": "stream",
     "text": [
      "Temporary file created: C:\\Users\\zaaim\\AppData\\Local\\Temp\\tmpnfgdrp_e.nii\n",
      "Data shape for BraTS20_Training_147_t1.nii: (240, 240, 155)\n",
      "Temporary file created: C:\\Users\\zaaim\\AppData\\Local\\Temp\\tmpsw7nsp2r.png\n",
      "Saving BraTS20_Training_147_t1.nii.gif\n",
      "Deleted temporary file: C:\\Users\\zaaim\\AppData\\Local\\Temp\\tmpsw7nsp2r.png\n",
      "Deleted temporary file: C:\\Users\\zaaim\\AppData\\Local\\Temp\\tmpnfgdrp_e.nii\n",
      "Fetching file: BraTS20_Training_147_t1ce.nii\n"
     ]
    },
    {
     "name": "stderr",
     "output_type": "stream",
     "text": [
      "MovieWriter imagemagick unavailable; using Pillow instead.\n"
     ]
    },
    {
     "name": "stdout",
     "output_type": "stream",
     "text": [
      "Temporary file created: C:\\Users\\zaaim\\AppData\\Local\\Temp\\tmpygfcij8_.nii\n",
      "Data shape for BraTS20_Training_147_t1ce.nii: (240, 240, 155)\n",
      "Temporary file created: C:\\Users\\zaaim\\AppData\\Local\\Temp\\tmpfnm_b1ta.png\n",
      "Saving BraTS20_Training_147_t1ce.nii.gif\n",
      "Deleted temporary file: C:\\Users\\zaaim\\AppData\\Local\\Temp\\tmpfnm_b1ta.png\n",
      "Deleted temporary file: C:\\Users\\zaaim\\AppData\\Local\\Temp\\tmpygfcij8_.nii\n",
      "Fetching file: BraTS20_Training_147_t2.nii\n"
     ]
    },
    {
     "name": "stderr",
     "output_type": "stream",
     "text": [
      "MovieWriter imagemagick unavailable; using Pillow instead.\n"
     ]
    },
    {
     "name": "stdout",
     "output_type": "stream",
     "text": [
      "Temporary file created: C:\\Users\\zaaim\\AppData\\Local\\Temp\\tmp324jkqdw.nii\n",
      "Data shape for BraTS20_Training_147_t2.nii: (240, 240, 155)\n",
      "Temporary file created: C:\\Users\\zaaim\\AppData\\Local\\Temp\\tmpaip92114.png\n",
      "Saving BraTS20_Training_147_t2.nii.gif\n",
      "Deleted temporary file: C:\\Users\\zaaim\\AppData\\Local\\Temp\\tmpaip92114.png\n",
      "Deleted temporary file: C:\\Users\\zaaim\\AppData\\Local\\Temp\\tmp324jkqdw.nii\n",
      "Fetching file: BraTS20_Training_148_flair.nii\n"
     ]
    },
    {
     "name": "stderr",
     "output_type": "stream",
     "text": [
      "MovieWriter imagemagick unavailable; using Pillow instead.\n"
     ]
    },
    {
     "name": "stdout",
     "output_type": "stream",
     "text": [
      "Temporary file created: C:\\Users\\zaaim\\AppData\\Local\\Temp\\tmpjpd13rmu.nii\n",
      "Data shape for BraTS20_Training_148_flair.nii: (240, 240, 155)\n",
      "Temporary file created: C:\\Users\\zaaim\\AppData\\Local\\Temp\\tmp154e1q_s.png\n",
      "Saving BraTS20_Training_148_flair.nii.gif\n",
      "Deleted temporary file: C:\\Users\\zaaim\\AppData\\Local\\Temp\\tmp154e1q_s.png\n",
      "Deleted temporary file: C:\\Users\\zaaim\\AppData\\Local\\Temp\\tmpjpd13rmu.nii\n",
      "Fetching file: BraTS20_Training_148_seg.nii\n"
     ]
    },
    {
     "name": "stderr",
     "output_type": "stream",
     "text": [
      "MovieWriter imagemagick unavailable; using Pillow instead.\n"
     ]
    },
    {
     "name": "stdout",
     "output_type": "stream",
     "text": [
      "Temporary file created: C:\\Users\\zaaim\\AppData\\Local\\Temp\\tmpsu8kl1jt.nii\n",
      "Data shape for BraTS20_Training_148_seg.nii: (240, 240, 155)\n",
      "Temporary file created: C:\\Users\\zaaim\\AppData\\Local\\Temp\\tmpy2s2vf4i.png\n",
      "Saving BraTS20_Training_148_seg.nii.gif\n",
      "Deleted temporary file: C:\\Users\\zaaim\\AppData\\Local\\Temp\\tmpy2s2vf4i.png\n",
      "Deleted temporary file: C:\\Users\\zaaim\\AppData\\Local\\Temp\\tmpsu8kl1jt.nii\n",
      "Fetching file: BraTS20_Training_148_t1.nii\n"
     ]
    },
    {
     "name": "stderr",
     "output_type": "stream",
     "text": [
      "MovieWriter imagemagick unavailable; using Pillow instead.\n"
     ]
    },
    {
     "name": "stdout",
     "output_type": "stream",
     "text": [
      "Temporary file created: C:\\Users\\zaaim\\AppData\\Local\\Temp\\tmpxrg_08tr.nii\n",
      "Data shape for BraTS20_Training_148_t1.nii: (240, 240, 155)\n",
      "Temporary file created: C:\\Users\\zaaim\\AppData\\Local\\Temp\\tmpq8jibyhv.png\n",
      "Saving BraTS20_Training_148_t1.nii.gif\n",
      "Deleted temporary file: C:\\Users\\zaaim\\AppData\\Local\\Temp\\tmpq8jibyhv.png\n",
      "Deleted temporary file: C:\\Users\\zaaim\\AppData\\Local\\Temp\\tmpxrg_08tr.nii\n",
      "Fetching file: BraTS20_Training_148_t1ce.nii\n"
     ]
    },
    {
     "name": "stderr",
     "output_type": "stream",
     "text": [
      "MovieWriter imagemagick unavailable; using Pillow instead.\n"
     ]
    },
    {
     "name": "stdout",
     "output_type": "stream",
     "text": [
      "Temporary file created: C:\\Users\\zaaim\\AppData\\Local\\Temp\\tmpngnu4o4x.nii\n",
      "Data shape for BraTS20_Training_148_t1ce.nii: (240, 240, 155)\n",
      "Temporary file created: C:\\Users\\zaaim\\AppData\\Local\\Temp\\tmp3kna2qjg.png\n",
      "Saving BraTS20_Training_148_t1ce.nii.gif\n",
      "Deleted temporary file: C:\\Users\\zaaim\\AppData\\Local\\Temp\\tmp3kna2qjg.png\n",
      "Deleted temporary file: C:\\Users\\zaaim\\AppData\\Local\\Temp\\tmpngnu4o4x.nii\n",
      "Fetching file: BraTS20_Training_148_t2.nii\n"
     ]
    },
    {
     "name": "stderr",
     "output_type": "stream",
     "text": [
      "MovieWriter imagemagick unavailable; using Pillow instead.\n"
     ]
    },
    {
     "name": "stdout",
     "output_type": "stream",
     "text": [
      "Temporary file created: C:\\Users\\zaaim\\AppData\\Local\\Temp\\tmp44m6noc_.nii\n",
      "Data shape for BraTS20_Training_148_t2.nii: (240, 240, 155)\n",
      "Temporary file created: C:\\Users\\zaaim\\AppData\\Local\\Temp\\tmpsw5kmxdi.png\n",
      "Saving BraTS20_Training_148_t2.nii.gif\n",
      "Deleted temporary file: C:\\Users\\zaaim\\AppData\\Local\\Temp\\tmpsw5kmxdi.png\n",
      "Deleted temporary file: C:\\Users\\zaaim\\AppData\\Local\\Temp\\tmp44m6noc_.nii\n",
      "Fetching file: BraTS20_Training_149_flair.nii\n"
     ]
    },
    {
     "name": "stderr",
     "output_type": "stream",
     "text": [
      "MovieWriter imagemagick unavailable; using Pillow instead.\n"
     ]
    },
    {
     "name": "stdout",
     "output_type": "stream",
     "text": [
      "Temporary file created: C:\\Users\\zaaim\\AppData\\Local\\Temp\\tmp1mvb5ujy.nii\n",
      "Data shape for BraTS20_Training_149_flair.nii: (240, 240, 155)\n",
      "Temporary file created: C:\\Users\\zaaim\\AppData\\Local\\Temp\\tmpetr_xf1j.png\n",
      "Saving BraTS20_Training_149_flair.nii.gif\n",
      "Deleted temporary file: C:\\Users\\zaaim\\AppData\\Local\\Temp\\tmpetr_xf1j.png\n",
      "Deleted temporary file: C:\\Users\\zaaim\\AppData\\Local\\Temp\\tmp1mvb5ujy.nii\n",
      "Fetching file: BraTS20_Training_149_seg.nii\n"
     ]
    },
    {
     "name": "stderr",
     "output_type": "stream",
     "text": [
      "MovieWriter imagemagick unavailable; using Pillow instead.\n"
     ]
    },
    {
     "name": "stdout",
     "output_type": "stream",
     "text": [
      "Temporary file created: C:\\Users\\zaaim\\AppData\\Local\\Temp\\tmpkclf18cm.nii\n",
      "Data shape for BraTS20_Training_149_seg.nii: (240, 240, 155)\n",
      "Temporary file created: C:\\Users\\zaaim\\AppData\\Local\\Temp\\tmpuykg9sd_.png\n",
      "Saving BraTS20_Training_149_seg.nii.gif\n",
      "Deleted temporary file: C:\\Users\\zaaim\\AppData\\Local\\Temp\\tmpuykg9sd_.png\n",
      "Deleted temporary file: C:\\Users\\zaaim\\AppData\\Local\\Temp\\tmpkclf18cm.nii\n",
      "Fetching file: BraTS20_Training_149_t1.nii\n"
     ]
    },
    {
     "name": "stderr",
     "output_type": "stream",
     "text": [
      "MovieWriter imagemagick unavailable; using Pillow instead.\n"
     ]
    },
    {
     "name": "stdout",
     "output_type": "stream",
     "text": [
      "Temporary file created: C:\\Users\\zaaim\\AppData\\Local\\Temp\\tmpzxkp67va.nii\n",
      "Data shape for BraTS20_Training_149_t1.nii: (240, 240, 155)\n",
      "Temporary file created: C:\\Users\\zaaim\\AppData\\Local\\Temp\\tmp4mtne5r5.png\n",
      "Saving BraTS20_Training_149_t1.nii.gif\n",
      "Deleted temporary file: C:\\Users\\zaaim\\AppData\\Local\\Temp\\tmp4mtne5r5.png\n",
      "Deleted temporary file: C:\\Users\\zaaim\\AppData\\Local\\Temp\\tmpzxkp67va.nii\n",
      "Fetching file: BraTS20_Training_149_t1ce.nii\n"
     ]
    },
    {
     "name": "stderr",
     "output_type": "stream",
     "text": [
      "MovieWriter imagemagick unavailable; using Pillow instead.\n"
     ]
    },
    {
     "name": "stdout",
     "output_type": "stream",
     "text": [
      "Temporary file created: C:\\Users\\zaaim\\AppData\\Local\\Temp\\tmp2avhz1dz.nii\n",
      "Data shape for BraTS20_Training_149_t1ce.nii: (240, 240, 155)\n",
      "Temporary file created: C:\\Users\\zaaim\\AppData\\Local\\Temp\\tmpce9z9x2i.png\n",
      "Saving BraTS20_Training_149_t1ce.nii.gif\n",
      "Deleted temporary file: C:\\Users\\zaaim\\AppData\\Local\\Temp\\tmpce9z9x2i.png\n",
      "Deleted temporary file: C:\\Users\\zaaim\\AppData\\Local\\Temp\\tmp2avhz1dz.nii\n",
      "Fetching file: BraTS20_Training_149_t2.nii\n"
     ]
    },
    {
     "name": "stderr",
     "output_type": "stream",
     "text": [
      "MovieWriter imagemagick unavailable; using Pillow instead.\n"
     ]
    },
    {
     "name": "stdout",
     "output_type": "stream",
     "text": [
      "Temporary file created: C:\\Users\\zaaim\\AppData\\Local\\Temp\\tmpceypvie7.nii\n",
      "Data shape for BraTS20_Training_149_t2.nii: (240, 240, 155)\n",
      "Temporary file created: C:\\Users\\zaaim\\AppData\\Local\\Temp\\tmpevwf9p2p.png\n",
      "Saving BraTS20_Training_149_t2.nii.gif\n",
      "Deleted temporary file: C:\\Users\\zaaim\\AppData\\Local\\Temp\\tmpevwf9p2p.png\n",
      "Deleted temporary file: C:\\Users\\zaaim\\AppData\\Local\\Temp\\tmpceypvie7.nii\n",
      "Fetching file: BraTS20_Training_153_flair.nii\n"
     ]
    },
    {
     "name": "stderr",
     "output_type": "stream",
     "text": [
      "MovieWriter imagemagick unavailable; using Pillow instead.\n"
     ]
    },
    {
     "name": "stdout",
     "output_type": "stream",
     "text": [
      "Temporary file created: C:\\Users\\zaaim\\AppData\\Local\\Temp\\tmpzb481m31.nii\n",
      "Data shape for BraTS20_Training_153_flair.nii: (240, 240, 155)\n",
      "Temporary file created: C:\\Users\\zaaim\\AppData\\Local\\Temp\\tmpuaztdwzm.png\n",
      "Saving BraTS20_Training_153_flair.nii.gif\n",
      "Deleted temporary file: C:\\Users\\zaaim\\AppData\\Local\\Temp\\tmpuaztdwzm.png\n",
      "Deleted temporary file: C:\\Users\\zaaim\\AppData\\Local\\Temp\\tmpzb481m31.nii\n",
      "Fetching file: BraTS20_Training_153_seg.nii\n"
     ]
    },
    {
     "name": "stderr",
     "output_type": "stream",
     "text": [
      "MovieWriter imagemagick unavailable; using Pillow instead.\n"
     ]
    },
    {
     "name": "stdout",
     "output_type": "stream",
     "text": [
      "Temporary file created: C:\\Users\\zaaim\\AppData\\Local\\Temp\\tmp1u6xoo67.nii\n",
      "Data shape for BraTS20_Training_153_seg.nii: (240, 240, 155)\n",
      "Temporary file created: C:\\Users\\zaaim\\AppData\\Local\\Temp\\tmpvu274qbg.png\n",
      "Saving BraTS20_Training_153_seg.nii.gif\n",
      "Deleted temporary file: C:\\Users\\zaaim\\AppData\\Local\\Temp\\tmpvu274qbg.png\n",
      "Deleted temporary file: C:\\Users\\zaaim\\AppData\\Local\\Temp\\tmp1u6xoo67.nii\n",
      "Fetching file: BraTS20_Training_153_t1.nii\n",
      "Temporary file created: C:\\Users\\zaaim\\AppData\\Local\\Temp\\tmpdts5c8hx.nii\n",
      "Data shape for BraTS20_Training_153_t1.nii: (240, 240, 155)\n",
      "Temporary file created: C:\\Users\\zaaim\\AppData\\Local\\Temp\\tmp1bfvkkll.png\n",
      "Saving BraTS20_Training_153_t1.nii.gif\n"
     ]
    },
    {
     "name": "stderr",
     "output_type": "stream",
     "text": [
      "MovieWriter imagemagick unavailable; using Pillow instead.\n"
     ]
    },
    {
     "name": "stdout",
     "output_type": "stream",
     "text": [
      "Deleted temporary file: C:\\Users\\zaaim\\AppData\\Local\\Temp\\tmp1bfvkkll.png\n",
      "Deleted temporary file: C:\\Users\\zaaim\\AppData\\Local\\Temp\\tmpdts5c8hx.nii\n",
      "Fetching file: BraTS20_Training_153_t1ce.nii\n"
     ]
    },
    {
     "name": "stderr",
     "output_type": "stream",
     "text": [
      "MovieWriter imagemagick unavailable; using Pillow instead.\n"
     ]
    },
    {
     "name": "stdout",
     "output_type": "stream",
     "text": [
      "Temporary file created: C:\\Users\\zaaim\\AppData\\Local\\Temp\\tmph_l5ow9t.nii\n",
      "Data shape for BraTS20_Training_153_t1ce.nii: (240, 240, 155)\n",
      "Temporary file created: C:\\Users\\zaaim\\AppData\\Local\\Temp\\tmp7z86az7h.png\n",
      "Saving BraTS20_Training_153_t1ce.nii.gif\n",
      "Deleted temporary file: C:\\Users\\zaaim\\AppData\\Local\\Temp\\tmp7z86az7h.png\n",
      "Deleted temporary file: C:\\Users\\zaaim\\AppData\\Local\\Temp\\tmph_l5ow9t.nii\n",
      "Fetching file: BraTS20_Training_153_t2.nii\n",
      "Temporary file created: C:\\Users\\zaaim\\AppData\\Local\\Temp\\tmpzdeigwcl.nii\n"
     ]
    },
    {
     "name": "stderr",
     "output_type": "stream",
     "text": [
      "MovieWriter imagemagick unavailable; using Pillow instead.\n"
     ]
    },
    {
     "name": "stdout",
     "output_type": "stream",
     "text": [
      "Data shape for BraTS20_Training_153_t2.nii: (240, 240, 155)\n",
      "Temporary file created: C:\\Users\\zaaim\\AppData\\Local\\Temp\\tmpg1oeq40s.png\n",
      "Saving BraTS20_Training_153_t2.nii.gif\n",
      "Deleted temporary file: C:\\Users\\zaaim\\AppData\\Local\\Temp\\tmpg1oeq40s.png\n",
      "Deleted temporary file: C:\\Users\\zaaim\\AppData\\Local\\Temp\\tmpzdeigwcl.nii\n",
      "Fetching file: BraTS20_Training_162_flair.nii\n"
     ]
    },
    {
     "name": "stderr",
     "output_type": "stream",
     "text": [
      "MovieWriter imagemagick unavailable; using Pillow instead.\n"
     ]
    },
    {
     "name": "stdout",
     "output_type": "stream",
     "text": [
      "Temporary file created: C:\\Users\\zaaim\\AppData\\Local\\Temp\\tmpnxw6waj1.nii\n",
      "Data shape for BraTS20_Training_162_flair.nii: (240, 240, 155)\n",
      "Temporary file created: C:\\Users\\zaaim\\AppData\\Local\\Temp\\tmpkkm1iilc.png\n",
      "Saving BraTS20_Training_162_flair.nii.gif\n",
      "Deleted temporary file: C:\\Users\\zaaim\\AppData\\Local\\Temp\\tmpkkm1iilc.png\n",
      "Deleted temporary file: C:\\Users\\zaaim\\AppData\\Local\\Temp\\tmpnxw6waj1.nii\n",
      "Fetching file: BraTS20_Training_162_seg.nii\n"
     ]
    },
    {
     "name": "stderr",
     "output_type": "stream",
     "text": [
      "MovieWriter imagemagick unavailable; using Pillow instead.\n"
     ]
    },
    {
     "name": "stdout",
     "output_type": "stream",
     "text": [
      "Temporary file created: C:\\Users\\zaaim\\AppData\\Local\\Temp\\tmp027qt_0v.nii\n",
      "Data shape for BraTS20_Training_162_seg.nii: (240, 240, 155)\n",
      "Temporary file created: C:\\Users\\zaaim\\AppData\\Local\\Temp\\tmpxs95d6pe.png\n",
      "Saving BraTS20_Training_162_seg.nii.gif\n",
      "Deleted temporary file: C:\\Users\\zaaim\\AppData\\Local\\Temp\\tmpxs95d6pe.png\n",
      "Deleted temporary file: C:\\Users\\zaaim\\AppData\\Local\\Temp\\tmp027qt_0v.nii\n",
      "Fetching file: BraTS20_Training_162_t1.nii\n"
     ]
    },
    {
     "name": "stderr",
     "output_type": "stream",
     "text": [
      "MovieWriter imagemagick unavailable; using Pillow instead.\n"
     ]
    },
    {
     "name": "stdout",
     "output_type": "stream",
     "text": [
      "Temporary file created: C:\\Users\\zaaim\\AppData\\Local\\Temp\\tmpk8wpq2pb.nii\n",
      "Data shape for BraTS20_Training_162_t1.nii: (240, 240, 155)\n",
      "Temporary file created: C:\\Users\\zaaim\\AppData\\Local\\Temp\\tmpeq0ntcfj.png\n",
      "Saving BraTS20_Training_162_t1.nii.gif\n",
      "Deleted temporary file: C:\\Users\\zaaim\\AppData\\Local\\Temp\\tmpeq0ntcfj.png\n",
      "Deleted temporary file: C:\\Users\\zaaim\\AppData\\Local\\Temp\\tmpk8wpq2pb.nii\n",
      "Fetching file: BraTS20_Training_162_t1ce.nii\n"
     ]
    },
    {
     "name": "stderr",
     "output_type": "stream",
     "text": [
      "MovieWriter imagemagick unavailable; using Pillow instead.\n"
     ]
    },
    {
     "name": "stdout",
     "output_type": "stream",
     "text": [
      "Temporary file created: C:\\Users\\zaaim\\AppData\\Local\\Temp\\tmpg3yzlisl.nii\n",
      "Data shape for BraTS20_Training_162_t1ce.nii: (240, 240, 155)\n",
      "Temporary file created: C:\\Users\\zaaim\\AppData\\Local\\Temp\\tmpbjq1xyh3.png\n",
      "Saving BraTS20_Training_162_t1ce.nii.gif\n",
      "Deleted temporary file: C:\\Users\\zaaim\\AppData\\Local\\Temp\\tmpbjq1xyh3.png\n",
      "Deleted temporary file: C:\\Users\\zaaim\\AppData\\Local\\Temp\\tmpg3yzlisl.nii\n",
      "Fetching file: BraTS20_Training_162_t2.nii\n"
     ]
    },
    {
     "name": "stderr",
     "output_type": "stream",
     "text": [
      "MovieWriter imagemagick unavailable; using Pillow instead.\n"
     ]
    },
    {
     "name": "stdout",
     "output_type": "stream",
     "text": [
      "Temporary file created: C:\\Users\\zaaim\\AppData\\Local\\Temp\\tmp266ksa4n.nii\n",
      "Data shape for BraTS20_Training_162_t2.nii: (240, 240, 155)\n",
      "Temporary file created: C:\\Users\\zaaim\\AppData\\Local\\Temp\\tmp7tlc1euo.png\n",
      "Saving BraTS20_Training_162_t2.nii.gif\n",
      "Deleted temporary file: C:\\Users\\zaaim\\AppData\\Local\\Temp\\tmp7tlc1euo.png\n",
      "Deleted temporary file: C:\\Users\\zaaim\\AppData\\Local\\Temp\\tmp266ksa4n.nii\n",
      "Fetching file: BraTS20_Training_165_flair.nii\n"
     ]
    },
    {
     "name": "stderr",
     "output_type": "stream",
     "text": [
      "MovieWriter imagemagick unavailable; using Pillow instead.\n"
     ]
    },
    {
     "name": "stdout",
     "output_type": "stream",
     "text": [
      "Temporary file created: C:\\Users\\zaaim\\AppData\\Local\\Temp\\tmpv6vnccu1.nii\n",
      "Data shape for BraTS20_Training_165_flair.nii: (240, 240, 155)\n",
      "Temporary file created: C:\\Users\\zaaim\\AppData\\Local\\Temp\\tmpk364rt1e.png\n",
      "Saving BraTS20_Training_165_flair.nii.gif\n",
      "Deleted temporary file: C:\\Users\\zaaim\\AppData\\Local\\Temp\\tmpk364rt1e.png\n",
      "Deleted temporary file: C:\\Users\\zaaim\\AppData\\Local\\Temp\\tmpv6vnccu1.nii\n",
      "Fetching file: BraTS20_Training_165_seg.nii\n"
     ]
    },
    {
     "name": "stderr",
     "output_type": "stream",
     "text": [
      "MovieWriter imagemagick unavailable; using Pillow instead.\n"
     ]
    },
    {
     "name": "stdout",
     "output_type": "stream",
     "text": [
      "Temporary file created: C:\\Users\\zaaim\\AppData\\Local\\Temp\\tmpfterc8rk.nii\n",
      "Data shape for BraTS20_Training_165_seg.nii: (240, 240, 155)\n",
      "Temporary file created: C:\\Users\\zaaim\\AppData\\Local\\Temp\\tmphnvyj_vs.png\n",
      "Saving BraTS20_Training_165_seg.nii.gif\n",
      "Deleted temporary file: C:\\Users\\zaaim\\AppData\\Local\\Temp\\tmphnvyj_vs.png\n",
      "Deleted temporary file: C:\\Users\\zaaim\\AppData\\Local\\Temp\\tmpfterc8rk.nii\n",
      "Fetching file: BraTS20_Training_165_t1.nii\n"
     ]
    },
    {
     "name": "stderr",
     "output_type": "stream",
     "text": [
      "MovieWriter imagemagick unavailable; using Pillow instead.\n"
     ]
    },
    {
     "name": "stdout",
     "output_type": "stream",
     "text": [
      "Temporary file created: C:\\Users\\zaaim\\AppData\\Local\\Temp\\tmpu8l2emzv.nii\n",
      "Data shape for BraTS20_Training_165_t1.nii: (240, 240, 155)\n",
      "Temporary file created: C:\\Users\\zaaim\\AppData\\Local\\Temp\\tmpujr8263f.png\n",
      "Saving BraTS20_Training_165_t1.nii.gif\n",
      "Deleted temporary file: C:\\Users\\zaaim\\AppData\\Local\\Temp\\tmpujr8263f.png\n",
      "Deleted temporary file: C:\\Users\\zaaim\\AppData\\Local\\Temp\\tmpu8l2emzv.nii\n",
      "Fetching file: BraTS20_Training_165_t1ce.nii\n"
     ]
    },
    {
     "name": "stderr",
     "output_type": "stream",
     "text": [
      "MovieWriter imagemagick unavailable; using Pillow instead.\n"
     ]
    },
    {
     "name": "stdout",
     "output_type": "stream",
     "text": [
      "Temporary file created: C:\\Users\\zaaim\\AppData\\Local\\Temp\\tmpsjf8j4ix.nii\n",
      "Data shape for BraTS20_Training_165_t1ce.nii: (240, 240, 155)\n",
      "Temporary file created: C:\\Users\\zaaim\\AppData\\Local\\Temp\\tmp9x2zzj9f.png\n",
      "Saving BraTS20_Training_165_t1ce.nii.gif\n",
      "Deleted temporary file: C:\\Users\\zaaim\\AppData\\Local\\Temp\\tmp9x2zzj9f.png\n",
      "Deleted temporary file: C:\\Users\\zaaim\\AppData\\Local\\Temp\\tmpsjf8j4ix.nii\n",
      "Fetching file: BraTS20_Training_165_t2.nii\n"
     ]
    },
    {
     "name": "stderr",
     "output_type": "stream",
     "text": [
      "MovieWriter imagemagick unavailable; using Pillow instead.\n"
     ]
    },
    {
     "name": "stdout",
     "output_type": "stream",
     "text": [
      "Temporary file created: C:\\Users\\zaaim\\AppData\\Local\\Temp\\tmp00n0aag0.nii\n",
      "Data shape for BraTS20_Training_165_t2.nii: (240, 240, 155)\n",
      "Temporary file created: C:\\Users\\zaaim\\AppData\\Local\\Temp\\tmpx7m1d09n.png\n",
      "Saving BraTS20_Training_165_t2.nii.gif\n",
      "Deleted temporary file: C:\\Users\\zaaim\\AppData\\Local\\Temp\\tmpx7m1d09n.png\n",
      "Deleted temporary file: C:\\Users\\zaaim\\AppData\\Local\\Temp\\tmp00n0aag0.nii\n",
      "Fetching file: BraTS20_Training_170_flair.nii\n"
     ]
    },
    {
     "name": "stderr",
     "output_type": "stream",
     "text": [
      "MovieWriter imagemagick unavailable; using Pillow instead.\n"
     ]
    },
    {
     "name": "stdout",
     "output_type": "stream",
     "text": [
      "Temporary file created: C:\\Users\\zaaim\\AppData\\Local\\Temp\\tmpiqr9prut.nii\n",
      "Data shape for BraTS20_Training_170_flair.nii: (240, 240, 155)\n",
      "Temporary file created: C:\\Users\\zaaim\\AppData\\Local\\Temp\\tmp6wcpsarg.png\n",
      "Saving BraTS20_Training_170_flair.nii.gif\n",
      "Deleted temporary file: C:\\Users\\zaaim\\AppData\\Local\\Temp\\tmp6wcpsarg.png\n",
      "Deleted temporary file: C:\\Users\\zaaim\\AppData\\Local\\Temp\\tmpiqr9prut.nii\n",
      "Fetching file: BraTS20_Training_170_seg.nii\n"
     ]
    },
    {
     "name": "stderr",
     "output_type": "stream",
     "text": [
      "MovieWriter imagemagick unavailable; using Pillow instead.\n"
     ]
    },
    {
     "name": "stdout",
     "output_type": "stream",
     "text": [
      "Temporary file created: C:\\Users\\zaaim\\AppData\\Local\\Temp\\tmp0ild5dlr.nii\n",
      "Data shape for BraTS20_Training_170_seg.nii: (240, 240, 155)\n",
      "Temporary file created: C:\\Users\\zaaim\\AppData\\Local\\Temp\\tmpjezyjubx.png\n",
      "Saving BraTS20_Training_170_seg.nii.gif\n",
      "Deleted temporary file: C:\\Users\\zaaim\\AppData\\Local\\Temp\\tmpjezyjubx.png\n",
      "Deleted temporary file: C:\\Users\\zaaim\\AppData\\Local\\Temp\\tmp0ild5dlr.nii\n",
      "Fetching file: BraTS20_Training_170_t1.nii\n"
     ]
    },
    {
     "name": "stderr",
     "output_type": "stream",
     "text": [
      "MovieWriter imagemagick unavailable; using Pillow instead.\n"
     ]
    },
    {
     "name": "stdout",
     "output_type": "stream",
     "text": [
      "Temporary file created: C:\\Users\\zaaim\\AppData\\Local\\Temp\\tmpnqj4lafc.nii\n",
      "Data shape for BraTS20_Training_170_t1.nii: (240, 240, 155)\n",
      "Temporary file created: C:\\Users\\zaaim\\AppData\\Local\\Temp\\tmp13e5mxil.png\n",
      "Saving BraTS20_Training_170_t1.nii.gif\n",
      "Deleted temporary file: C:\\Users\\zaaim\\AppData\\Local\\Temp\\tmp13e5mxil.png\n",
      "Deleted temporary file: C:\\Users\\zaaim\\AppData\\Local\\Temp\\tmpnqj4lafc.nii\n",
      "Fetching file: BraTS20_Training_170_t1ce.nii\n"
     ]
    },
    {
     "name": "stderr",
     "output_type": "stream",
     "text": [
      "MovieWriter imagemagick unavailable; using Pillow instead.\n"
     ]
    },
    {
     "name": "stdout",
     "output_type": "stream",
     "text": [
      "Temporary file created: C:\\Users\\zaaim\\AppData\\Local\\Temp\\tmpobo6d3d8.nii\n",
      "Data shape for BraTS20_Training_170_t1ce.nii: (240, 240, 155)\n",
      "Temporary file created: C:\\Users\\zaaim\\AppData\\Local\\Temp\\tmp2_jc4ob7.png\n",
      "Saving BraTS20_Training_170_t1ce.nii.gif\n",
      "Deleted temporary file: C:\\Users\\zaaim\\AppData\\Local\\Temp\\tmp2_jc4ob7.png\n",
      "Deleted temporary file: C:\\Users\\zaaim\\AppData\\Local\\Temp\\tmpobo6d3d8.nii\n",
      "Fetching file: BraTS20_Training_170_t2.nii\n"
     ]
    },
    {
     "name": "stderr",
     "output_type": "stream",
     "text": [
      "MovieWriter imagemagick unavailable; using Pillow instead.\n"
     ]
    },
    {
     "name": "stdout",
     "output_type": "stream",
     "text": [
      "Temporary file created: C:\\Users\\zaaim\\AppData\\Local\\Temp\\tmpy29gmhp0.nii\n",
      "Data shape for BraTS20_Training_170_t2.nii: (240, 240, 155)\n",
      "Temporary file created: C:\\Users\\zaaim\\AppData\\Local\\Temp\\tmp3jxafqt3.png\n",
      "Saving BraTS20_Training_170_t2.nii.gif\n",
      "Deleted temporary file: C:\\Users\\zaaim\\AppData\\Local\\Temp\\tmp3jxafqt3.png\n",
      "Deleted temporary file: C:\\Users\\zaaim\\AppData\\Local\\Temp\\tmpy29gmhp0.nii\n",
      "Fetching file: BraTS20_Training_171_flair.nii\n",
      "Temporary file created: C:\\Users\\zaaim\\AppData\\Local\\Temp\\tmp7e_vpf2q.nii\n",
      "Data shape for BraTS20_Training_171_flair.nii: (240, 240, 155)\n"
     ]
    },
    {
     "name": "stderr",
     "output_type": "stream",
     "text": [
      "MovieWriter imagemagick unavailable; using Pillow instead.\n"
     ]
    },
    {
     "name": "stdout",
     "output_type": "stream",
     "text": [
      "Temporary file created: C:\\Users\\zaaim\\AppData\\Local\\Temp\\tmp07sguwna.png\n",
      "Saving BraTS20_Training_171_flair.nii.gif\n",
      "Deleted temporary file: C:\\Users\\zaaim\\AppData\\Local\\Temp\\tmp07sguwna.png\n",
      "Deleted temporary file: C:\\Users\\zaaim\\AppData\\Local\\Temp\\tmp7e_vpf2q.nii\n",
      "Fetching file: BraTS20_Training_171_seg.nii\n",
      "Temporary file created: C:\\Users\\zaaim\\AppData\\Local\\Temp\\tmp0ef5ghw5.nii\n",
      "Data shape for BraTS20_Training_171_seg.nii: (240, 240, 155)\n"
     ]
    },
    {
     "name": "stderr",
     "output_type": "stream",
     "text": [
      "MovieWriter imagemagick unavailable; using Pillow instead.\n"
     ]
    },
    {
     "name": "stdout",
     "output_type": "stream",
     "text": [
      "Temporary file created: C:\\Users\\zaaim\\AppData\\Local\\Temp\\tmp4b8ywg6k.png\n",
      "Saving BraTS20_Training_171_seg.nii.gif\n",
      "Deleted temporary file: C:\\Users\\zaaim\\AppData\\Local\\Temp\\tmp4b8ywg6k.png\n",
      "Deleted temporary file: C:\\Users\\zaaim\\AppData\\Local\\Temp\\tmp0ef5ghw5.nii\n",
      "Fetching file: BraTS20_Training_171_t1.nii\n",
      "Temporary file created: C:\\Users\\zaaim\\AppData\\Local\\Temp\\tmp4s43fn7o.nii\n"
     ]
    },
    {
     "name": "stderr",
     "output_type": "stream",
     "text": [
      "MovieWriter imagemagick unavailable; using Pillow instead.\n"
     ]
    },
    {
     "name": "stdout",
     "output_type": "stream",
     "text": [
      "Data shape for BraTS20_Training_171_t1.nii: (240, 240, 155)\n",
      "Temporary file created: C:\\Users\\zaaim\\AppData\\Local\\Temp\\tmpbh5afg79.png\n",
      "Saving BraTS20_Training_171_t1.nii.gif\n",
      "Deleted temporary file: C:\\Users\\zaaim\\AppData\\Local\\Temp\\tmpbh5afg79.png\n",
      "Deleted temporary file: C:\\Users\\zaaim\\AppData\\Local\\Temp\\tmp4s43fn7o.nii\n",
      "Fetching file: BraTS20_Training_171_t1ce.nii\n",
      "Temporary file created: C:\\Users\\zaaim\\AppData\\Local\\Temp\\tmp0bshrh9v.nii\n"
     ]
    },
    {
     "name": "stderr",
     "output_type": "stream",
     "text": [
      "MovieWriter imagemagick unavailable; using Pillow instead.\n"
     ]
    },
    {
     "name": "stdout",
     "output_type": "stream",
     "text": [
      "Data shape for BraTS20_Training_171_t1ce.nii: (240, 240, 155)\n",
      "Temporary file created: C:\\Users\\zaaim\\AppData\\Local\\Temp\\tmp6hnpjxxw.png\n",
      "Saving BraTS20_Training_171_t1ce.nii.gif\n",
      "Deleted temporary file: C:\\Users\\zaaim\\AppData\\Local\\Temp\\tmp6hnpjxxw.png\n",
      "Deleted temporary file: C:\\Users\\zaaim\\AppData\\Local\\Temp\\tmp0bshrh9v.nii\n",
      "Fetching file: BraTS20_Training_171_t2.nii\n",
      "Temporary file created: C:\\Users\\zaaim\\AppData\\Local\\Temp\\tmpv11rl4k_.nii\n"
     ]
    },
    {
     "name": "stderr",
     "output_type": "stream",
     "text": [
      "MovieWriter imagemagick unavailable; using Pillow instead.\n"
     ]
    },
    {
     "name": "stdout",
     "output_type": "stream",
     "text": [
      "Data shape for BraTS20_Training_171_t2.nii: (240, 240, 155)\n",
      "Temporary file created: C:\\Users\\zaaim\\AppData\\Local\\Temp\\tmp050b84eh.png\n",
      "Saving BraTS20_Training_171_t2.nii.gif\n",
      "Deleted temporary file: C:\\Users\\zaaim\\AppData\\Local\\Temp\\tmp050b84eh.png\n",
      "Deleted temporary file: C:\\Users\\zaaim\\AppData\\Local\\Temp\\tmpv11rl4k_.nii\n",
      "Fetching file: BraTS20_Training_176_flair.nii\n"
     ]
    },
    {
     "name": "stderr",
     "output_type": "stream",
     "text": [
      "MovieWriter imagemagick unavailable; using Pillow instead.\n"
     ]
    },
    {
     "name": "stdout",
     "output_type": "stream",
     "text": [
      "Temporary file created: C:\\Users\\zaaim\\AppData\\Local\\Temp\\tmpbhwx0aaf.nii\n",
      "Data shape for BraTS20_Training_176_flair.nii: (240, 240, 155)\n",
      "Temporary file created: C:\\Users\\zaaim\\AppData\\Local\\Temp\\tmphst8naxq.png\n",
      "Saving BraTS20_Training_176_flair.nii.gif\n"
     ]
    }
   ],
   "source": [
    "\n",
    "import boto3\n",
    "import nibabel as nib\n",
    "import numpy as np\n",
    "import matplotlib.pyplot as plt\n",
    "import matplotlib.animation as animation\n",
    "import io\n",
    "import tempfile\n",
    "import os\n",
    "import traceback\n",
    "\n",
    "# Identifying resource type\n",
    "s3 = boto3.resource('s3')\n",
    "\n",
    "# Specifying resource location on AWS\n",
    "bucket_name = 'chemocraft-data'\n",
    "folder_path = 'MICCAI_BraTS2020_TrainingData/'\n",
    "user='Zaaim'\n",
    "\n",
    "# Requesting the  corresponding bucket from AWS\n",
    "bucket = s3.Bucket(bucket_name)\n",
    "\n",
    "# Setting local directory name to store brain visualizations. \n",
    "visualizer_folder = 'brain_visualizations'\n",
    "\n",
    "# Defining function to take a specified file from s3 bucket and manipulate it locally for analysis\n",
    "def render_nii_from_s3(brain_num, filename):\n",
    "\n",
    "    # Notify fetch\n",
    "    print(f\"Fetching file: {filename}\")\n",
    "\n",
    "    # Grab object stored in s3 bucket\n",
    "    # print(folder_path + brain_num + filename)\n",
    "    obj = bucket.Object(folder_path + brain_num + \"/\" + filename)\n",
    "\n",
    "    # Create stream to body of the object in s3 buckets\n",
    "    file_stream = io.BytesIO(obj.get()['Body'].read())\n",
    "\n",
    "    # Auto resource release for temporary file used to hold the binary stream data \n",
    "    with tempfile.NamedTemporaryFile(suffix='.nii', delete=False) as temp_file:  # Disable auto-delete\n",
    "        \n",
    "        # Wrtie to temporary file the file stream data\n",
    "        temp_file.write(file_stream.getvalue())\n",
    "\n",
    "        # Flush stream buffer\n",
    "        temp_file.flush()\n",
    "\n",
    "        # grab the file from the tempfile path (Can be source of error on Windows machines)\n",
    "        temp_file_path = temp_file.name\n",
    "        print(f\"Temporary file created: {temp_file_path}\")\n",
    "\n",
    "    try:\n",
    "        # Loading the temp file from disk into img which has header and body data of the file type\n",
    "        img = nib.load(temp_file_path)\n",
    "        data = img.get_fdata() # Grab the body section of the data (as ndarray)\n",
    "\n",
    "        # Check the dimensions of the data\n",
    "        print(f\"Data shape for {filename}: {data.shape}\")\n",
    "\n",
    "        # Data does not exist in the .nii file\n",
    "        if data.size == 0:\n",
    "            print(f\"No data found in {filename}\")\n",
    "            return\n",
    "\n",
    "        # Setting crop variables (Pixels from edges)\n",
    "        cropleft=27\n",
    "        cropright=17\n",
    "        cropbottom=40\n",
    "        croptop=40\n",
    "\n",
    "\n",
    "        slice_idx = data.shape[2] // 2 # When set to zero the function animation does not work??????\n",
    "\n",
    "        # Initialize figure with a single Axes of size 6, 6\n",
    "        fig, ax = plt.subplots(figsize=(6, 6))\n",
    "\n",
    "        # Grab the Axis returned by setting ax Axes to imshow data display\n",
    "        imgdisplay = ax.imshow(data[croptop:data.shape[1]-cropbottom, cropleft:data.shape[0]-cropright, slice_idx], cmap=\"grey\") # Could change to other formats for visualization\n",
    "\n",
    "        # Set the figure super title to slice indx\n",
    "        fig.suptitle(f'{filename} - Slice {slice_idx}')\n",
    "        plt.axis('off')  # Hide axes for cleaner display\n",
    "\n",
    "        # Create directory for brain slices\n",
    "        slice_save_dir=f\"brain_slices/{filename.split(\".\")[0]}\";\n",
    "        \n",
    "        with tempfile.NamedTemporaryFile(suffix='.png', delete=False) as png_upload:\n",
    "        \n",
    "            print(f\"Temporary file created: {png_upload.name}\")\n",
    "\n",
    "        try:    \n",
    "            # Update animation to increment slice of the image\n",
    "            def update(frame):\n",
    "                if frame<0 or frame>=data.shape[2]: # Check if image out of range\n",
    "                    return imgdisplay # return previous indx\n",
    "\n",
    "                # Remove the title of the figure\n",
    "                imgdisplay.figure.suptitle(\"\")\n",
    "\n",
    "                # Save image slice\n",
    "                plt.savefig(png_upload.name, format=\"png\", bbox_inches='tight', pad_inches=0);\n",
    "                try:\n",
    "                    bucket.upload_file(png_upload.name, f\"{user}/{brain_num}/{slice_save_dir}/{frame}.png\")\n",
    "                except e:\n",
    "                    print(f\"Failed to upload frames: {e}\")\n",
    "\n",
    "                # Update the Axes to have the next slice data\n",
    "                imgdisplay.set_data(data[croptop:data.shape[1]-cropbottom, cropleft:data.shape[0]-cropright, frame])\n",
    "                # Update the title of the figure\n",
    "                imgdisplay.figure.suptitle(f'{filename} - Slice {frame}')\n",
    "                return imgdisplay\n",
    "\n",
    "            # Create the animation object of the slices\n",
    "            ani = animation.FuncAnimation(fig=fig, func=update, frames=data.shape[2], interval=50)\n",
    "            print(f\"Saving {filename}.gif\")\n",
    "\n",
    "            # Save visualization of the brain animation to specified path\n",
    "\n",
    "            with tempfile.NamedTemporaryFile(suffix=\".gif\", delete=False) as vis_upload:\n",
    "                ani.save(vis_upload.name, writer=\"imagemagick\")\n",
    "                try:\n",
    "                    bucket.upload_file(vis_upload.name, f\"{user}/{brain_num}/{visualizer_folder}/video_{filename.split(\".\")[0]}.gif\")\n",
    "                except e:\n",
    "                    print(f\"Failed to upload visualization: {e}\")\n",
    "\n",
    "            \n",
    "        except e:\n",
    "            print(\"Error occured during processing\")\n",
    "        finally: \n",
    "            try:\n",
    "                os.remove(png_upload.name);\n",
    "                print(f\"Deleted temporary file: {png_upload.name}\")\n",
    "            except e:\n",
    "                print(\"Failed to delete temporary png_upload file\")\n",
    "\n",
    "    except Exception as e:\n",
    "        print(f\"Error loading file {filename}: {e}\")\n",
    "        traceback.print_exc()\n",
    "    finally:\n",
    "        try:\n",
    "            os.remove(temp_file_path)  # Clean up the temp file\n",
    "            print(f\"Deleted temporary file: {temp_file_path}\")\n",
    "        except OSError as cleanup_error:\n",
    "            print(f\"Error deleting temp file: {cleanup_error}\")\n",
    "\n",
    "# Iterating through objects in s3 Bucket for brain 20\n",
    "found_files = False\n",
    "for obj in bucket.objects.filter(Prefix=folder_path):\n",
    "    if obj.key.endswith('.nii'):\n",
    "        found_files = True\n",
    "        brain_num = obj.key.split('/')[-2]\n",
    "        filename = obj.key.split('/')[-1]  # Get the filename\n",
    "        if 5 == len(list(bucket.objects.filter(Prefix=f\"{user}/{brain_num}/{visualizer_folder}/\"))):\n",
    "            continue\n",
    "        render_nii_from_s3(brain_num, filename)\n",
    "if not found_files:\n",
    "    print(f\"No .nii files found in the folder {folder_path}\")\n",
    "\n",
    "\n"
   ]
  }
 ],
 "metadata": {
  "kernelspec": {
   "display_name": "myenv",
   "language": "python",
   "name": "python3"
  },
  "language_info": {
   "codemirror_mode": {
    "name": "ipython",
    "version": 3
   },
   "file_extension": ".py",
   "mimetype": "text/x-python",
   "name": "python",
   "nbconvert_exporter": "python",
   "pygments_lexer": "ipython3",
   "version": "3.12.7"
  }
 },
 "nbformat": 4,
 "nbformat_minor": 2
}
