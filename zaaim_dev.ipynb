{
 "cells": [
  {
   "cell_type": "markdown",
   "metadata": {},
   "source": [
    "# Data Summary\n",
    "\n",
    "## SCAN TYPES\n",
    "\n",
    "The data given is a single brain with various different types of MRI scans done on it to portray different information about the brain.\n",
    "\n",
    "### T1\n",
    "\n",
    "This scan is a basic MRI which takes into account all the general signals the MRI can detect. This causes the image to be a little fuzzy due to the fluid motion in the brain. \n",
    "\n",
    "### T2\n",
    "\n",
    "This scan focuses on the fluid regions of the brains by scanning in a manner which makes them much brighter in comparison to the brain matter areas. These scans help identify edema or inflammation in the brain. \n",
    "\n",
    "> Edema is when too much fluid is trapped in the body tissue\n",
    "\n",
    "### FRAIR\n",
    "\n",
    "This scan focuses on the brain matter, muscle tissue, and solid regions of the brain to identify physical deformations such as tumors or lesions. (What are MS Plaques)\n",
    "\n",
    "### T1CE\n",
    "\n",
    "An agent is applied to make areas of blood-brain barrier disruptors more apparent so that region of tumors and inflammation appear more bright. (Do not fully understand yet)\n",
    "\n",
    "### SEGMENTATION\n",
    "\n",
    "This are labeled regions of the brain that have been identified/segmented for analysis due to abnormalities observed during the scan. \n",
    "\n",
    "**These were most likely used as training data for a model to identify the points where abnormalities occured in the brain so that more subtle abnormalities could be detected??????????** \n",
    "\n",
    "**For out purposes of brain slice generation, would this be helpful???**\n",
    "\n",
    "\n",
    "# Bugs\n",
    "\n",
    "1. Whenever I set slice_idx=0 the animation does not update the data based on the frame (I need to find out why)\n",
    "\n",
    "2. My code still outputs blank images after execution, I believe it is due to the animation module finishing; however, I am not sure. \n",
    "\n",
    "3. NamesTempFile argument delete must be set to False on Windows machines (Noted for future reference)\n",
    "\n",
    "# Other\n",
    "\n",
    "- .nii: NeuroImaging Informatics\n",
    "- Data is stored in memory, written to disk, then reread from disk into memory\n",
    "- Takes a **FAT** minute to load\n"
   ]
  },
  {
   "cell_type": "code",
   "execution_count": 12,
   "metadata": {},
   "outputs": [
    {
     "name": "stdout",
     "output_type": "stream",
     "text": [
      "Fetching file: BraTS20_Training_369_flair.nii\n"
     ]
    },
    {
     "name": "stderr",
     "output_type": "stream",
     "text": [
      "MovieWriter imagemagick unavailable; using Pillow instead.\n"
     ]
    },
    {
     "name": "stdout",
     "output_type": "stream",
     "text": [
      "Temporary file created: C:\\Users\\zaaim\\AppData\\Local\\Temp\\tmp0iqwx33_.nii\n",
      "Data shape for BraTS20_Training_369_flair.nii: (240, 240, 155)\n",
      "Saving BraTS20_Training_369_flair.nii.gif\n",
      "Deleted temporary file: C:\\Users\\zaaim\\AppData\\Local\\Temp\\tmp0iqwx33_.nii\n",
      "Fetching file: BraTS20_Training_369_seg.nii\n"
     ]
    },
    {
     "name": "stderr",
     "output_type": "stream",
     "text": [
      "MovieWriter imagemagick unavailable; using Pillow instead.\n"
     ]
    },
    {
     "name": "stdout",
     "output_type": "stream",
     "text": [
      "Temporary file created: C:\\Users\\zaaim\\AppData\\Local\\Temp\\tmpki6eemqx.nii\n",
      "Data shape for BraTS20_Training_369_seg.nii: (240, 240, 155)\n",
      "Saving BraTS20_Training_369_seg.nii.gif\n",
      "Deleted temporary file: C:\\Users\\zaaim\\AppData\\Local\\Temp\\tmpki6eemqx.nii\n",
      "Fetching file: BraTS20_Training_369_t1.nii\n"
     ]
    },
    {
     "name": "stderr",
     "output_type": "stream",
     "text": [
      "MovieWriter imagemagick unavailable; using Pillow instead.\n"
     ]
    },
    {
     "name": "stdout",
     "output_type": "stream",
     "text": [
      "Temporary file created: C:\\Users\\zaaim\\AppData\\Local\\Temp\\tmp5n5ry60d.nii\n",
      "Data shape for BraTS20_Training_369_t1.nii: (240, 240, 155)\n",
      "Saving BraTS20_Training_369_t1.nii.gif\n",
      "Deleted temporary file: C:\\Users\\zaaim\\AppData\\Local\\Temp\\tmp5n5ry60d.nii\n",
      "Fetching file: BraTS20_Training_369_t1ce.nii\n"
     ]
    },
    {
     "name": "stderr",
     "output_type": "stream",
     "text": [
      "MovieWriter imagemagick unavailable; using Pillow instead.\n"
     ]
    },
    {
     "name": "stdout",
     "output_type": "stream",
     "text": [
      "Temporary file created: C:\\Users\\zaaim\\AppData\\Local\\Temp\\tmpt8g00vcg.nii\n",
      "Data shape for BraTS20_Training_369_t1ce.nii: (240, 240, 155)\n",
      "Saving BraTS20_Training_369_t1ce.nii.gif\n",
      "Deleted temporary file: C:\\Users\\zaaim\\AppData\\Local\\Temp\\tmpt8g00vcg.nii\n"
     ]
    },
    {
     "ename": "KeyboardInterrupt",
     "evalue": "",
     "output_type": "error",
     "traceback": [
      "\u001b[1;31m---------------------------------------------------------------------------\u001b[0m",
      "\u001b[1;31mKeyboardInterrupt\u001b[0m                         Traceback (most recent call last)",
      "Cell \u001b[1;32mIn[12], line 129\u001b[0m\n\u001b[0;32m    127\u001b[0m         found_files \u001b[38;5;241m=\u001b[39m \u001b[38;5;28;01mTrue\u001b[39;00m\n\u001b[0;32m    128\u001b[0m         filename \u001b[38;5;241m=\u001b[39m obj\u001b[38;5;241m.\u001b[39mkey\u001b[38;5;241m.\u001b[39msplit(\u001b[38;5;124m'\u001b[39m\u001b[38;5;124m/\u001b[39m\u001b[38;5;124m'\u001b[39m)[\u001b[38;5;241m-\u001b[39m\u001b[38;5;241m1\u001b[39m]  \u001b[38;5;66;03m# Get the filename\u001b[39;00m\n\u001b[1;32m--> 129\u001b[0m         render_nii_from_s3(filename)\n\u001b[0;32m    131\u001b[0m \u001b[38;5;28;01mif\u001b[39;00m \u001b[38;5;129;01mnot\u001b[39;00m found_files:\n\u001b[0;32m    132\u001b[0m     \u001b[38;5;28mprint\u001b[39m(\u001b[38;5;124mf\u001b[39m\u001b[38;5;124m\"\u001b[39m\u001b[38;5;124mNo .nii files found in the folder \u001b[39m\u001b[38;5;132;01m{\u001b[39;00mfolder_path\u001b[38;5;132;01m}\u001b[39;00m\u001b[38;5;124m\"\u001b[39m)\n",
      "Cell \u001b[1;32mIn[12], line 112\u001b[0m, in \u001b[0;36mrender_nii_from_s3\u001b[1;34m(filename)\u001b[0m\n\u001b[0;32m    110\u001b[0m     \u001b[38;5;66;03m# Save visualization of the brain animation to specified path\u001b[39;00m\n\u001b[0;32m    111\u001b[0m     vid_path \u001b[38;5;241m=\u001b[39m os\u001b[38;5;241m.\u001b[39mpath\u001b[38;5;241m.\u001b[39mjoin(visualizer_folder, \u001b[38;5;124mf\u001b[39m\u001b[38;5;124m\"\u001b[39m\u001b[38;5;124mvideo_\u001b[39m\u001b[38;5;132;01m{\u001b[39;00mfilename\u001b[38;5;241m.\u001b[39msplit(\u001b[38;5;124m\"\u001b[39m\u001b[38;5;124m.\u001b[39m\u001b[38;5;124m\"\u001b[39m)[\u001b[38;5;241m0\u001b[39m]\u001b[38;5;132;01m}\u001b[39;00m\u001b[38;5;124m.gif\u001b[39m\u001b[38;5;124m\"\u001b[39m);\n\u001b[1;32m--> 112\u001b[0m     ani\u001b[38;5;241m.\u001b[39msave(vid_path, writer\u001b[38;5;241m=\u001b[39m\u001b[38;5;124m\"\u001b[39m\u001b[38;5;124mimagemagick\u001b[39m\u001b[38;5;124m\"\u001b[39m)\n\u001b[0;32m    114\u001b[0m \u001b[38;5;28;01mexcept\u001b[39;00m \u001b[38;5;167;01mException\u001b[39;00m \u001b[38;5;28;01mas\u001b[39;00m e:\n\u001b[0;32m    115\u001b[0m     \u001b[38;5;28mprint\u001b[39m(\u001b[38;5;124mf\u001b[39m\u001b[38;5;124m\"\u001b[39m\u001b[38;5;124mError loading file \u001b[39m\u001b[38;5;132;01m{\u001b[39;00mfilename\u001b[38;5;132;01m}\u001b[39;00m\u001b[38;5;124m: \u001b[39m\u001b[38;5;132;01m{\u001b[39;00me\u001b[38;5;132;01m}\u001b[39;00m\u001b[38;5;124m\"\u001b[39m)\n",
      "File \u001b[1;32mc:\\Users\\zaaim\\anaconda3\\envs\\myenv\\Lib\\site-packages\\matplotlib\\animation.py:1069\u001b[0m, in \u001b[0;36mAnimation.save\u001b[1;34m(self, filename, writer, fps, dpi, codec, bitrate, extra_args, metadata, extra_anim, savefig_kwargs, progress_callback)\u001b[0m\n\u001b[0;32m   1065\u001b[0m savefig_kwargs[\u001b[38;5;124m'\u001b[39m\u001b[38;5;124mtransparent\u001b[39m\u001b[38;5;124m'\u001b[39m] \u001b[38;5;241m=\u001b[39m \u001b[38;5;28;01mFalse\u001b[39;00m   \u001b[38;5;66;03m# just to be safe!\u001b[39;00m\n\u001b[0;32m   1066\u001b[0m \u001b[38;5;66;03m# canvas._is_saving = True makes the draw_event animation-starting\u001b[39;00m\n\u001b[0;32m   1067\u001b[0m \u001b[38;5;66;03m# callback a no-op; canvas.manager = None prevents resizing the GUI\u001b[39;00m\n\u001b[0;32m   1068\u001b[0m \u001b[38;5;66;03m# widget (both are likewise done in savefig()).\u001b[39;00m\n\u001b[1;32m-> 1069\u001b[0m \u001b[38;5;28;01mwith\u001b[39;00m writer\u001b[38;5;241m.\u001b[39msaving(\u001b[38;5;28mself\u001b[39m\u001b[38;5;241m.\u001b[39m_fig, filename, dpi), \\\n\u001b[0;32m   1070\u001b[0m      cbook\u001b[38;5;241m.\u001b[39m_setattr_cm(\u001b[38;5;28mself\u001b[39m\u001b[38;5;241m.\u001b[39m_fig\u001b[38;5;241m.\u001b[39mcanvas, _is_saving\u001b[38;5;241m=\u001b[39m\u001b[38;5;28;01mTrue\u001b[39;00m, manager\u001b[38;5;241m=\u001b[39m\u001b[38;5;28;01mNone\u001b[39;00m):\n\u001b[0;32m   1071\u001b[0m     \u001b[38;5;28;01mfor\u001b[39;00m anim \u001b[38;5;129;01min\u001b[39;00m all_anim:\n\u001b[0;32m   1072\u001b[0m         anim\u001b[38;5;241m.\u001b[39m_init_draw()  \u001b[38;5;66;03m# Clear the initial frame\u001b[39;00m\n",
      "File \u001b[1;32mc:\\Users\\zaaim\\anaconda3\\envs\\myenv\\Lib\\contextlib.py:144\u001b[0m, in \u001b[0;36m_GeneratorContextManager.__exit__\u001b[1;34m(self, typ, value, traceback)\u001b[0m\n\u001b[0;32m    142\u001b[0m \u001b[38;5;28;01mif\u001b[39;00m typ \u001b[38;5;129;01mis\u001b[39;00m \u001b[38;5;28;01mNone\u001b[39;00m:\n\u001b[0;32m    143\u001b[0m     \u001b[38;5;28;01mtry\u001b[39;00m:\n\u001b[1;32m--> 144\u001b[0m         \u001b[38;5;28mnext\u001b[39m(\u001b[38;5;28mself\u001b[39m\u001b[38;5;241m.\u001b[39mgen)\n\u001b[0;32m    145\u001b[0m     \u001b[38;5;28;01mexcept\u001b[39;00m \u001b[38;5;167;01mStopIteration\u001b[39;00m:\n\u001b[0;32m    146\u001b[0m         \u001b[38;5;28;01mreturn\u001b[39;00m \u001b[38;5;28;01mFalse\u001b[39;00m\n",
      "File \u001b[1;32mc:\\Users\\zaaim\\anaconda3\\envs\\myenv\\Lib\\site-packages\\matplotlib\\animation.py:225\u001b[0m, in \u001b[0;36mAbstractMovieWriter.saving\u001b[1;34m(self, fig, outfile, dpi, *args, **kwargs)\u001b[0m\n\u001b[0;32m    223\u001b[0m     \u001b[38;5;28;01myield\u001b[39;00m \u001b[38;5;28mself\u001b[39m\n\u001b[0;32m    224\u001b[0m \u001b[38;5;28;01mfinally\u001b[39;00m:\n\u001b[1;32m--> 225\u001b[0m     \u001b[38;5;28mself\u001b[39m\u001b[38;5;241m.\u001b[39mfinish()\n",
      "File \u001b[1;32mc:\\Users\\zaaim\\anaconda3\\envs\\myenv\\Lib\\site-packages\\matplotlib\\animation.py:495\u001b[0m, in \u001b[0;36mPillowWriter.finish\u001b[1;34m(self)\u001b[0m\n\u001b[0;32m    494\u001b[0m \u001b[38;5;28;01mdef\u001b[39;00m \u001b[38;5;21mfinish\u001b[39m(\u001b[38;5;28mself\u001b[39m):\n\u001b[1;32m--> 495\u001b[0m     \u001b[38;5;28mself\u001b[39m\u001b[38;5;241m.\u001b[39m_frames[\u001b[38;5;241m0\u001b[39m]\u001b[38;5;241m.\u001b[39msave(\n\u001b[0;32m    496\u001b[0m         \u001b[38;5;28mself\u001b[39m\u001b[38;5;241m.\u001b[39moutfile, save_all\u001b[38;5;241m=\u001b[39m\u001b[38;5;28;01mTrue\u001b[39;00m, append_images\u001b[38;5;241m=\u001b[39m\u001b[38;5;28mself\u001b[39m\u001b[38;5;241m.\u001b[39m_frames[\u001b[38;5;241m1\u001b[39m:],\n\u001b[0;32m    497\u001b[0m         duration\u001b[38;5;241m=\u001b[39m\u001b[38;5;28mint\u001b[39m(\u001b[38;5;241m1000\u001b[39m \u001b[38;5;241m/\u001b[39m \u001b[38;5;28mself\u001b[39m\u001b[38;5;241m.\u001b[39mfps), loop\u001b[38;5;241m=\u001b[39m\u001b[38;5;241m0\u001b[39m)\n",
      "File \u001b[1;32mc:\\Users\\zaaim\\anaconda3\\envs\\myenv\\Lib\\site-packages\\PIL\\Image.py:2605\u001b[0m, in \u001b[0;36mImage.save\u001b[1;34m(self, fp, format, **params)\u001b[0m\n\u001b[0;32m   2602\u001b[0m     fp \u001b[38;5;241m=\u001b[39m cast(IO[\u001b[38;5;28mbytes\u001b[39m], fp)\n\u001b[0;32m   2604\u001b[0m \u001b[38;5;28;01mtry\u001b[39;00m:\n\u001b[1;32m-> 2605\u001b[0m     save_handler(\u001b[38;5;28mself\u001b[39m, fp, filename)\n\u001b[0;32m   2606\u001b[0m \u001b[38;5;28;01mexcept\u001b[39;00m \u001b[38;5;167;01mException\u001b[39;00m:\n\u001b[0;32m   2607\u001b[0m     \u001b[38;5;28;01mif\u001b[39;00m open_fp:\n",
      "File \u001b[1;32mc:\\Users\\zaaim\\anaconda3\\envs\\myenv\\Lib\\site-packages\\PIL\\GifImagePlugin.py:774\u001b[0m, in \u001b[0;36m_save_all\u001b[1;34m(im, fp, filename)\u001b[0m\n\u001b[0;32m    773\u001b[0m \u001b[38;5;28;01mdef\u001b[39;00m \u001b[38;5;21m_save_all\u001b[39m(im: Image\u001b[38;5;241m.\u001b[39mImage, fp: IO[\u001b[38;5;28mbytes\u001b[39m], filename: \u001b[38;5;28mstr\u001b[39m \u001b[38;5;241m|\u001b[39m \u001b[38;5;28mbytes\u001b[39m) \u001b[38;5;241m-\u001b[39m\u001b[38;5;241m>\u001b[39m \u001b[38;5;28;01mNone\u001b[39;00m:\n\u001b[1;32m--> 774\u001b[0m     _save(im, fp, filename, save_all\u001b[38;5;241m=\u001b[39m\u001b[38;5;28;01mTrue\u001b[39;00m)\n",
      "File \u001b[1;32mc:\\Users\\zaaim\\anaconda3\\envs\\myenv\\Lib\\site-packages\\PIL\\GifImagePlugin.py:787\u001b[0m, in \u001b[0;36m_save\u001b[1;34m(im, fp, filename, save_all)\u001b[0m\n\u001b[0;32m    784\u001b[0m     palette \u001b[38;5;241m=\u001b[39m \u001b[38;5;28;01mNone\u001b[39;00m\n\u001b[0;32m    785\u001b[0m     im\u001b[38;5;241m.\u001b[39mencoderinfo\u001b[38;5;241m.\u001b[39msetdefault(\u001b[38;5;124m\"\u001b[39m\u001b[38;5;124moptimize\u001b[39m\u001b[38;5;124m\"\u001b[39m, \u001b[38;5;28;01mTrue\u001b[39;00m)\n\u001b[1;32m--> 787\u001b[0m \u001b[38;5;28;01mif\u001b[39;00m \u001b[38;5;129;01mnot\u001b[39;00m save_all \u001b[38;5;129;01mor\u001b[39;00m \u001b[38;5;129;01mnot\u001b[39;00m _write_multiple_frames(im, fp, palette):\n\u001b[0;32m    788\u001b[0m     _write_single_frame(im, fp, palette)\n\u001b[0;32m    790\u001b[0m fp\u001b[38;5;241m.\u001b[39mwrite(\u001b[38;5;124mb\u001b[39m\u001b[38;5;124m\"\u001b[39m\u001b[38;5;124m;\u001b[39m\u001b[38;5;124m\"\u001b[39m)  \u001b[38;5;66;03m# end of file\u001b[39;00m\n",
      "File \u001b[1;32mc:\\Users\\zaaim\\anaconda3\\envs\\myenv\\Lib\\site-packages\\PIL\\GifImagePlugin.py:713\u001b[0m, in \u001b[0;36m_write_multiple_frames\u001b[1;34m(im, fp, palette)\u001b[0m\n\u001b[0;32m    710\u001b[0m         \u001b[38;5;28;01mpass\u001b[39;00m\n\u001b[0;32m    711\u001b[0m \u001b[38;5;28;01mif\u001b[39;00m \u001b[38;5;124m\"\u001b[39m\u001b[38;5;124mtransparency\u001b[39m\u001b[38;5;124m\"\u001b[39m \u001b[38;5;129;01min\u001b[39;00m encoderinfo:\n\u001b[0;32m    712\u001b[0m     \u001b[38;5;66;03m# When the delta is zero, fill the image with transparency\u001b[39;00m\n\u001b[1;32m--> 713\u001b[0m     diff_frame \u001b[38;5;241m=\u001b[39m im_frame\u001b[38;5;241m.\u001b[39mcopy()\n\u001b[0;32m    714\u001b[0m     fill \u001b[38;5;241m=\u001b[39m Image\u001b[38;5;241m.\u001b[39mnew(\u001b[38;5;124m\"\u001b[39m\u001b[38;5;124mP\u001b[39m\u001b[38;5;124m\"\u001b[39m, delta\u001b[38;5;241m.\u001b[39msize, encoderinfo[\u001b[38;5;124m\"\u001b[39m\u001b[38;5;124mtransparency\u001b[39m\u001b[38;5;124m\"\u001b[39m])\n\u001b[0;32m    715\u001b[0m     \u001b[38;5;28;01mif\u001b[39;00m delta\u001b[38;5;241m.\u001b[39mmode \u001b[38;5;241m==\u001b[39m \u001b[38;5;124m\"\u001b[39m\u001b[38;5;124mRGBA\u001b[39m\u001b[38;5;124m\"\u001b[39m:\n",
      "File \u001b[1;32mc:\\Users\\zaaim\\anaconda3\\envs\\myenv\\Lib\\site-packages\\PIL\\Image.py:1283\u001b[0m, in \u001b[0;36mImage.copy\u001b[1;34m(self)\u001b[0m\n\u001b[0;32m   1275\u001b[0m \u001b[38;5;250m\u001b[39m\u001b[38;5;124;03m\"\"\"\u001b[39;00m\n\u001b[0;32m   1276\u001b[0m \u001b[38;5;124;03mCopies this image. Use this method if you wish to paste things\u001b[39;00m\n\u001b[0;32m   1277\u001b[0m \u001b[38;5;124;03minto an image, but still retain the original.\u001b[39;00m\n\u001b[1;32m   (...)\u001b[0m\n\u001b[0;32m   1280\u001b[0m \u001b[38;5;124;03m:returns: An :py:class:`~PIL.Image.Image` object.\u001b[39;00m\n\u001b[0;32m   1281\u001b[0m \u001b[38;5;124;03m\"\"\"\u001b[39;00m\n\u001b[0;32m   1282\u001b[0m \u001b[38;5;28mself\u001b[39m\u001b[38;5;241m.\u001b[39mload()\n\u001b[1;32m-> 1283\u001b[0m \u001b[38;5;28;01mreturn\u001b[39;00m \u001b[38;5;28mself\u001b[39m\u001b[38;5;241m.\u001b[39m_new(\u001b[38;5;28mself\u001b[39m\u001b[38;5;241m.\u001b[39mim\u001b[38;5;241m.\u001b[39mcopy())\n",
      "\u001b[1;31mKeyboardInterrupt\u001b[0m: "
     ]
    },
    {
     "data": {
      "image/png": "[encoded data removed]",
      "text/plain": [
       "<Figure size 600x600 with 1 Axes>"
      ]
     },
     "metadata": {},
     "output_type": "display_data"
    },
    {
     "data": {
      "image/png": "[encoded data removed]",
      "text/plain": [
       "<Figure size 600x600 with 1 Axes>"
      ]
     },
     "metadata": {},
     "output_type": "display_data"
    },
    {
     "data": {
      "image/png": "[encoded data removed]",
      "text/plain": [
       "<Figure size 600x600 with 1 Axes>"
      ]
     },
     "metadata": {},
     "output_type": "display_data"
    },
    {
     "data": {
      "image/png": "[encoded data removed]",
      "text/plain": [
       "<Figure size 600x600 with 1 Axes>"
      ]
     },
     "metadata": {},
     "output_type": "display_data"
    }
   ],
   "source": [
    "\n",
    "import boto3\n",
    "import nibabel as nib\n",
    "import numpy as np\n",
    "import matplotlib.pyplot as plt\n",
    "import matplotlib.animation as animation\n",
    "import io\n",
    "import tempfile\n",
    "import os\n",
    "\n",
    "# Identifying resource type\n",
    "s3 = boto3.resource('s3')\n",
    "\n",
    "# Specifying resource location on AWS\n",
    "bucket_name = 'chemocraft-data'\n",
    "folder_path = 'Data/BraTS20_Training_369 copy/'\n",
    "\n",
    "# Requesting the  corresponding bucket from AWS\n",
    "bucket = s3.Bucket(bucket_name)\n",
    "\n",
    "# Setting local directory name to store brain visualizations. \n",
    "visualizer_folder = 'brain_visualizations'\n",
    "\n",
    "# Defining function to take a specified file from s3 bucket and manipulate it locally for analysis\n",
    "def render_nii_from_s3(filename):\n",
    "\n",
    "    # Notify fetch\n",
    "    print(f\"Fetching file: {filename}\")\n",
    "\n",
    "    # Grab object stored in s3 bucket\n",
    "    obj = bucket.Object(folder_path + filename)\n",
    "\n",
    "    # Create stream to body of the object in s3 buckets\n",
    "    file_stream = io.BytesIO(obj.get()['Body'].read())\n",
    "\n",
    "    # Auto resource release for temporary file used to hold the binary stream data \n",
    "    with tempfile.NamedTemporaryFile(suffix='.nii', delete=False) as temp_file:  # Disable auto-delete\n",
    "        \n",
    "        # Wrtie to temporary file the file stream data\n",
    "        temp_file.write(file_stream.getvalue())\n",
    "\n",
    "        # Flush stream buffer\n",
    "        temp_file.flush()\n",
    "\n",
    "        # grab the file from the tempfile path (Can be source of error on Windows machines)\n",
    "        temp_file_path = temp_file.name\n",
    "        print(f\"Temporary file created: {temp_file_path}\")\n",
    "\n",
    "    try:\n",
    "        # Loading the temp file from disk into img which has header and body data of the file type\n",
    "        img = nib.load(temp_file_path)\n",
    "        data = img.get_fdata() # Grab the body section of the data (as ndarray)\n",
    "\n",
    "        # Check the dimensions of the data\n",
    "        print(f\"Data shape for {filename}: {data.shape}\")\n",
    "\n",
    "        # Data does not exist in the .nii file\n",
    "        if data.size == 0:\n",
    "            print(f\"No data found in {filename}\")\n",
    "            return\n",
    "\n",
    "        # Setting crop variables (Pixels from edges)\n",
    "        cropleft=27\n",
    "        cropright=17\n",
    "        cropbottom=40\n",
    "        croptop=40\n",
    "\n",
    "\n",
    "        slice_idx = 88 # When set to zero the function animation does not work??????\n",
    "\n",
    "        # Initialize figure with a single Axes of size 6, 6\n",
    "        fig, ax = plt.subplots(figsize=(6, 6))\n",
    "\n",
    "        # Grab the Axis returned by setting ax Axes to imshow data display\n",
    "        imgdisplay = ax.imshow(data[croptop:data.shape[1]-cropbottom, cropleft:data.shape[0]-cropright, slice_idx]) # Could change to other formats for visualization\n",
    "\n",
    "        # Set the figure super title to slice indx\n",
    "        fig.suptitle(f'{filename} - Slice {slice_idx}')\n",
    "        plt.axis('off')  # Hide axes for cleaner display\n",
    "\n",
    "        # Create directory for brain slices\n",
    "        slice_save_dir=f\"brain_slices/{filename.split(\".\")[0]}/\";\n",
    "\n",
    "        try:\n",
    "            os.makedirs(slice_save_dir, exist_ok=True) # The filename .nii is taken out\n",
    "        except e:\n",
    "            print(f\"ERROR: directory could not be made due to {e}\")\n",
    "        \n",
    "\n",
    "        # Update animation to increment slice of the image\n",
    "        def update(frame):\n",
    "            if frame<0 or frame>=data.shape[2]: # Check if image out of range\n",
    "                return imgdisplay # return previous indx\n",
    "\n",
    "            # Remove the title of the figure\n",
    "            imgdisplay.figure.suptitle(\"\")\n",
    "\n",
    "            # Save image slice\n",
    "            plt.savefig(f\"{slice_save_dir}/{frame}.png\", format=\"png\", bbox_inches='tight', pad_inches=0);\n",
    "\n",
    "            # Update the Axes to have the next slice data\n",
    "            imgdisplay.set_data(data[croptop:data.shape[1]-cropbottom, cropleft:data.shape[0]-cropright, frame])\n",
    "            # Update the title of the figure\n",
    "            imgdisplay.figure.suptitle(f'{filename} - Slice {frame}')\n",
    "            return imgdisplay\n",
    "\n",
    "        # Create the animation object of the slices\n",
    "        ani = animation.FuncAnimation(fig=fig, func=update, frames=155, interval=50)\n",
    "        print(f\"Saving {filename}.gif\")\n",
    "\n",
    "        # Save visualization of the brain animation to specified path\n",
    "        vid_path = os.path.join(visualizer_folder, f\"video_{filename.split(\".\")[0]}.gif\");\n",
    "        ani.save(vid_path, writer=\"imagemagick\")\n",
    "\n",
    "    except Exception as e:\n",
    "        print(f\"Error loading file {filename}: {e}\")\n",
    "    finally:\n",
    "        try:\n",
    "            os.remove(temp_file_path)  # Clean up the temp file\n",
    "            print(f\"Deleted temporary file: {temp_file_path}\")\n",
    "        except OSError as cleanup_error:\n",
    "            print(f\"Error deleting temp file: {cleanup_error}\")\n",
    "\n",
    "# Iterating through objects in s3 Bucket for brain 20\n",
    "found_files = False\n",
    "for obj in bucket.objects.filter(Prefix=folder_path):\n",
    "    if obj.key.endswith('.nii'):\n",
    "        found_files = True\n",
    "        filename = obj.key.split('/')[-1]  # Get the filename\n",
    "        render_nii_from_s3(filename)\n",
    "\n",
    "if not found_files:\n",
    "    print(f\"No .nii files found in the folder {folder_path}\")\n",
    "\n",
    "\n"
   ]
  }
 ],
 "metadata": {
  "kernelspec": {
   "display_name": "myenv",
   "language": "python",
   "name": "python3"
  },
  "language_info": {
   "codemirror_mode": {
    "name": "ipython",
    "version": 3
   },
   "file_extension": ".py",
   "mimetype": "text/x-python",
   "name": "python",
   "nbconvert_exporter": "python",
   "pygments_lexer": "ipython3",
   "version": "3.12.7"
  }
 },
 "nbformat": 4,
 "nbformat_minor": 2
}
